{
 "cells": [
  {
   "attachments": {},
   "cell_type": "markdown",
   "metadata": {},
   "source": [
    "## Cadenas o String\n",
    "\n",
    "En programación Python, una cadena (string en inglés) es una secuencia de caracteres Unicode, es decir, una serie de caracteres, números, símbolos y espacios en blanco que se utilizan para representar texto. Las cadenas se utilizan para manipular y trabajar con datos de texto en un programa Python. Puedes crear cadenas utilizando comillas simples (' '), comillas dobles (\" \"), o comillas triples (''' ''' o \"\"\" \"\"\") para abarcar múltiples líneas.\n"
   ]
  },
  {
   "cell_type": "code",
   "execution_count": 5,
   "metadata": {},
   "outputs": [],
   "source": [
    "## Cadenas o String\n",
    "\n",
    "cadena_1='Hola, mundo!'\n",
    "\n",
    "cadena_2=\"Python es genial\"\n",
    "\n",
    "\n",
    "cadena_3='''Este es un ejemplo\n",
    "de una cadena en varias lines'''"
   ]
  },
  {
   "attachments": {},
   "cell_type": "markdown",
   "metadata": {},
   "source": [
    "Diferentes formas de Imprimir"
   ]
  },
  {
   "cell_type": "code",
   "execution_count": 19,
   "metadata": {},
   "outputs": [
    {
     "data": {
      "text/plain": [
       "'Este es un ejemplo\\nde una cadena en varias lines'"
      ]
     },
     "execution_count": 19,
     "metadata": {},
     "output_type": "execute_result"
    }
   ],
   "source": [
    "cadena_3"
   ]
  },
  {
   "cell_type": "code",
   "execution_count": 9,
   "metadata": {},
   "outputs": [
    {
     "data": {
      "text/plain": [
       "'Hola, mundo!'"
      ]
     },
     "execution_count": 9,
     "metadata": {},
     "output_type": "execute_result"
    }
   ],
   "source": [
    "cadena_3\n",
    "cadena_2\n",
    "cadena_1"
   ]
  },
  {
   "cell_type": "code",
   "execution_count": 11,
   "metadata": {},
   "outputs": [
    {
     "name": "stdout",
     "output_type": "stream",
     "text": [
      "Hola, mundo!\n",
      "Python es genial\n",
      "Este es un ejemplo\n",
      "de una cadena en varias lines\n"
     ]
    }
   ],
   "source": [
    "print(cadena_1)\n",
    "print(cadena_2)\n",
    "print(cadena_3)"
   ]
  },
  {
   "cell_type": "code",
   "execution_count": null,
   "metadata": {},
   "outputs": [],
   "source": []
  },
  {
   "cell_type": "code",
   "execution_count": 13,
   "metadata": {},
   "outputs": [
    {
     "name": "stdout",
     "output_type": "stream",
     "text": [
      "Hola, mundo\n",
      "H\n",
      "Saludos\n",
      "['mundo']\n",
      "4\n"
     ]
    }
   ],
   "source": [
    "cadena1 = \"Hola\"\n",
    "cadena2 = \"mundo\"\n",
    "\n",
    "# Concatenación de cadenas\n",
    "concatenada = cadena1 + \", \" + cadena2  # Resultado: \"Hola, mundo\"\n",
    "print(concatenada)\n",
    "\n",
    "# Acceso a caracteres individuales (indexación)\n",
    "primer_caracter = cadena1[0]  # Resultado: \"H\"\n",
    "print(primer_caracter)\n",
    "# Reemplazar una subcadena\n",
    "nueva_cadena = cadena1.replace(\"Hola\", \"Saludos\")  # Resultado: \"Saludos\"\n",
    "print(nueva_cadena)\n",
    "# Dividir una cadena en palabras\n",
    "palabras = cadena2.split()  # Resultado: [\"mundo\"]\n",
    "print(palabras)\n",
    "# Obtener la longitud de una cadena\n",
    "longitud = len(cadena1)  # Resultado: 4\n",
    "print(longitud)"
   ]
  },
  {
   "attachments": {},
   "cell_type": "markdown",
   "metadata": {},
   "source": [
    "Ejercicio 1\n",
    "\n",
    "Escribir un programa que pregunte el nombre del usuario en la consola y un número entero e imprima por pantalla en líneas distintas el nombre del usuario tantas veces como el número introducido."
   ]
  },
  {
   "cell_type": "code",
   "execution_count": 21,
   "metadata": {},
   "outputs": [
    {
     "name": "stdout",
     "output_type": "stream",
     "text": [
      "fer\n",
      "fer\n",
      "fer\n",
      "fer\n",
      "fer\n",
      "\n"
     ]
    }
   ],
   "source": [
    "nombre = input(\"Dame tu nombre\")\n",
    "numero = int(input(\"Dame un número entero\"))\n",
    "\n",
    "print((nombre+\"\\n\")* numero)"
   ]
  },
  {
   "attachments": {},
   "cell_type": "markdown",
   "metadata": {},
   "source": [
    "Escribir un programa que pregunte el nombre completo del usuario en la consola y después muestre por pantalla el nombre completo del usuario tres veces, una con todas las letras minúsculas, otra con todas las letras mayúsculas y otra solo con la primera letra del nombre y de los apellidos en mayúscula. El usuario puede introducir su nombre combinando mayúsculas y minúsculas como"
   ]
  },
  {
   "cell_type": "code",
   "execution_count": 24,
   "metadata": {},
   "outputs": [
    {
     "name": "stdout",
     "output_type": "stream",
     "text": [
      "fernando ortega camargo\n",
      "FERNANDO ORTEGA CAMARGO\n",
      "Fernando ortega camargo\n",
      "Fernando Ortega Camargo\n"
     ]
    }
   ],
   "source": [
    "nombre = input(\"Dame tu nombre\")\n",
    "\n",
    "\n",
    "print(nombre.lower())\n",
    "print(nombre.upper())\n",
    "print(nombre.capitalize())\n",
    "print(nombre.title())"
   ]
  },
  {
   "cell_type": "code",
   "execution_count": 26,
   "metadata": {},
   "outputs": [
    {
     "name": "stdout",
     "output_type": "stream",
     "text": [
      "n\n"
     ]
    }
   ],
   "source": [
    "nombre = input(\"Dame tu nombre\")\n",
    "\n",
    "\n",
    "print(nombre[3])\n"
   ]
  },
  {
   "attachments": {},
   "cell_type": "markdown",
   "metadata": {},
   "source": [
    "## Ejercicio 3 \n",
    "\n",
    "Escribir un programa que pregunte el nombre del usuario en la consola y después de que el usuario lo introduzca muestre por pantalla `<NOMBRE> tiene <n> letras`, donde `<NOMBRE>` es el nombre de usuario en mayúsculas y `<n>` es el número de letras que tienen el nombre."
   ]
  },
  {
   "cell_type": "code",
   "execution_count": 29,
   "metadata": {},
   "outputs": [
    {
     "name": "stdout",
     "output_type": "stream",
     "text": [
      "<FERNANDO> tiene <8> letras\n"
     ]
    }
   ],
   "source": [
    "nombre = input(\"Dame tu nombre\")\n",
    "\n",
    "\n",
    "print(\"<\"+nombre.upper()+\"> tiene \"+\"<\"+str(len(nombre))+ \"> letras\")\n"
   ]
  },
  {
   "attachments": {},
   "cell_type": "markdown",
   "metadata": {},
   "source": [
    "## Ejercicio 4\n",
    "\n",
    "Los teléfonos de una empresa tienen el siguiente formato `prefijo-número-extension` donde el prefijo es el código del país `+55`, y la extensión tiene dos dígitos (por ejemplo `+55-33482535-56`). Escribir un programa que pregunte por un número de teléfono con este formato en la consola y muestre por pantalla el número de teléfono sin el prefijo y la extensión."
   ]
  },
  {
   "cell_type": "code",
   "execution_count": 1,
   "metadata": {},
   "outputs": [
    {
     "name": "stdout",
     "output_type": "stream",
     "text": [
      "El numero es 55454414\n"
     ]
    }
   ],
   "source": [
    "numero = input(\"Dame el número con la siguiente estructura prefijo-numero-extension\")\n",
    "print(\"El numero es \"+ numero[3:-3])"
   ]
  },
  {
   "cell_type": "code",
   "execution_count": null,
   "metadata": {},
   "outputs": [],
   "source": []
  }
 ],
 "metadata": {
  "kernelspec": {
   "display_name": "progra_1",
   "language": "python",
   "name": "python3"
  },
  "language_info": {
   "codemirror_mode": {
    "name": "ipython",
    "version": 3
   },
   "file_extension": ".py",
   "mimetype": "text/x-python",
   "name": "python",
   "nbconvert_exporter": "python",
   "pygments_lexer": "ipython3",
   "version": "3.8.17"
  },
  "orig_nbformat": 4
 },
 "nbformat": 4,
 "nbformat_minor": 2
}
