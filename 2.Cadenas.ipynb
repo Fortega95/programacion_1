{
 "cells": [
  {
   "attachments": {},
   "cell_type": "markdown",
   "metadata": {},
   "source": [
    "### Alumno: Fernando Ortega Camargo\n",
    "### No. estudiante 323018993\n",
    "### Correo: fernando.ortega1899@alumnos.udg.mx\n",
    "### Fecha: 07 / 09 / 2023"
   ]
  },
  {
   "attachments": {},
   "cell_type": "markdown",
   "metadata": {},
   "source": [
    "## Cadenas o String\n",
    "\n",
    "En programación Python, una cadena (string en inglés) es una secuencia de caracteres Unicode, es decir, una serie de caracteres, números, símbolos y espacios en blanco que se utilizan para representar texto. Las cadenas se utilizan para manipular y trabajar con datos de texto en un programa Python. Puedes crear cadenas utilizando comillas simples (' '), comillas dobles (\" \"), o comillas triples (''' ''' o \"\"\" \"\"\") para abarcar múltiples líneas.\n"
   ]
  },
  {
   "cell_type": "code",
   "execution_count": 5,
   "metadata": {},
   "outputs": [],
   "source": [
    "## Cadenas o String\n",
    "\n",
    "cadena_1='Hola, mundo!'\n",
    "\n",
    "cadena_2=\"Python es genial\"\n",
    "\n",
    "\n",
    "cadena_3='''Este es un ejemplo\n",
    "de una cadena en varias lines'''"
   ]
  },
  {
   "attachments": {},
   "cell_type": "markdown",
   "metadata": {},
   "source": [
    "Diferentes formas de Imprimir"
   ]
  },
  {
   "cell_type": "code",
   "execution_count": 19,
   "metadata": {},
   "outputs": [
    {
     "data": {
      "text/plain": [
       "'Este es un ejemplo\\nde una cadena en varias lines'"
      ]
     },
     "execution_count": 19,
     "metadata": {},
     "output_type": "execute_result"
    }
   ],
   "source": [
    "cadena_3"
   ]
  },
  {
   "cell_type": "code",
   "execution_count": 9,
   "metadata": {},
   "outputs": [
    {
     "data": {
      "text/plain": [
       "'Hola, mundo!'"
      ]
     },
     "execution_count": 9,
     "metadata": {},
     "output_type": "execute_result"
    }
   ],
   "source": [
    "cadena_3\n",
    "cadena_2\n",
    "cadena_1"
   ]
  },
  {
   "cell_type": "code",
   "execution_count": 11,
   "metadata": {},
   "outputs": [
    {
     "name": "stdout",
     "output_type": "stream",
     "text": [
      "Hola, mundo!\n",
      "Python es genial\n",
      "Este es un ejemplo\n",
      "de una cadena en varias lines\n"
     ]
    }
   ],
   "source": [
    "print(cadena_1)\n",
    "print(cadena_2)\n",
    "print(cadena_3)"
   ]
  },
  {
   "cell_type": "code",
   "execution_count": null,
   "metadata": {},
   "outputs": [],
   "source": []
  },
  {
   "cell_type": "code",
   "execution_count": 13,
   "metadata": {},
   "outputs": [
    {
     "name": "stdout",
     "output_type": "stream",
     "text": [
      "Hola, mundo\n",
      "H\n",
      "Saludos\n",
      "['mundo']\n",
      "4\n"
     ]
    }
   ],
   "source": [
    "cadena1 = \"Hola\"\n",
    "cadena2 = \"mundo\"\n",
    "\n",
    "# Concatenación de cadenas\n",
    "concatenada = cadena1 + \", \" + cadena2  # Resultado: \"Hola, mundo\"\n",
    "print(concatenada)\n",
    "\n",
    "# Acceso a caracteres individuales (indexación)\n",
    "primer_caracter = cadena1[0]  # Resultado: \"H\"\n",
    "print(primer_caracter)\n",
    "# Reemplazar una subcadena\n",
    "nueva_cadena = cadena1.replace(\"Hola\", \"Saludos\")  # Resultado: \"Saludos\"\n",
    "print(nueva_cadena)\n",
    "# Dividir una cadena en palabras\n",
    "palabras = cadena2.split()  # Resultado: [\"mundo\"]\n",
    "print(palabras)\n",
    "# Obtener la longitud de una cadena\n",
    "longitud = len(cadena1)  # Resultado: 4\n",
    "print(longitud)"
   ]
  },
  {
   "attachments": {},
   "cell_type": "markdown",
   "metadata": {},
   "source": [
    "## Ejercicio 1\n",
    "\n",
    "Escribir un programa que pregunte el nombre del usuario en la consola y un número entero e imprima por pantalla en líneas distintas el nombre del usuario tantas veces como el número introducido."
   ]
  },
  {
   "cell_type": "code",
   "execution_count": 21,
   "metadata": {},
   "outputs": [
    {
     "name": "stdout",
     "output_type": "stream",
     "text": [
      "fer\n",
      "fer\n",
      "fer\n",
      "fer\n",
      "fer\n",
      "\n"
     ]
    }
   ],
   "source": [
    "nombre = input(\"Dame tu nombre\")\n",
    "numero = int(input(\"Dame un número entero\"))\n",
    "\n",
    "print((nombre+\"\\n\")* numero)"
   ]
  },
  {
   "attachments": {},
   "cell_type": "markdown",
   "metadata": {},
   "source": [
    "## Ejercicio 2\n",
    "Escribir un programa que pregunte el nombre completo del usuario en la consola y después muestre por pantalla el nombre completo del usuario tres veces, una con todas las letras minúsculas, otra con todas las letras mayúsculas y otra solo con la primera letra del nombre y de los apellidos en mayúscula. El usuario puede introducir su nombre combinando mayúsculas y minúsculas como"
   ]
  },
  {
   "cell_type": "code",
   "execution_count": 24,
   "metadata": {},
   "outputs": [
    {
     "name": "stdout",
     "output_type": "stream",
     "text": [
      "fernando ortega camargo\n",
      "FERNANDO ORTEGA CAMARGO\n",
      "Fernando ortega camargo\n",
      "Fernando Ortega Camargo\n"
     ]
    }
   ],
   "source": [
    "nombre = input(\"Dame tu nombre\")\n",
    "\n",
    "\n",
    "print(nombre.lower())\n",
    "print(nombre.upper())\n",
    "print(nombre.capitalize())\n",
    "print(nombre.title())"
   ]
  },
  {
   "cell_type": "code",
   "execution_count": 26,
   "metadata": {},
   "outputs": [
    {
     "name": "stdout",
     "output_type": "stream",
     "text": [
      "n\n"
     ]
    }
   ],
   "source": [
    "nombre = input(\"Dame tu nombre\")\n",
    "\n",
    "\n",
    "print(nombre[3])\n"
   ]
  },
  {
   "attachments": {},
   "cell_type": "markdown",
   "metadata": {},
   "source": [
    "## Ejercicio 3 \n",
    "\n",
    "Escribir un programa que pregunte el nombre del usuario en la consola y después de que el usuario lo introduzca muestre por pantalla `<NOMBRE> tiene <n> letras`, donde `<NOMBRE>` es el nombre de usuario en mayúsculas y `<n>` es el número de letras que tienen el nombre."
   ]
  },
  {
   "cell_type": "code",
   "execution_count": 29,
   "metadata": {},
   "outputs": [
    {
     "name": "stdout",
     "output_type": "stream",
     "text": [
      "<FERNANDO> tiene <8> letras\n"
     ]
    }
   ],
   "source": [
    "nombre = input(\"Dame tu nombre\")\n",
    "\n",
    "\n",
    "print(\"<\"+nombre.upper()+\"> tiene \"+\"<\"+str(len(nombre))+ \"> letras\")\n"
   ]
  },
  {
   "attachments": {},
   "cell_type": "markdown",
   "metadata": {},
   "source": [
    "## Ejercicio 4\n",
    "\n",
    "Los teléfonos de una empresa tienen el siguiente formato `prefijo-número-extension` donde el prefijo es el código del país `+55`, y la extensión tiene dos dígitos (por ejemplo `+55-33482535-56`). Escribir un programa que pregunte por un número de teléfono con este formato en la consola y muestre por pantalla el número de teléfono sin el prefijo y la extensión."
   ]
  },
  {
   "cell_type": "code",
   "execution_count": 1,
   "metadata": {},
   "outputs": [
    {
     "name": "stdout",
     "output_type": "stream",
     "text": [
      "El numero es 55454414\n"
     ]
    }
   ],
   "source": [
    "numero = input(\"Dame el número con la siguiente estructura prefijo-numero-extension\")\n",
    "print(\"El numero es \"+ numero[3:-3])"
   ]
  },
  {
   "attachments": {},
   "cell_type": "markdown",
   "metadata": {},
   "source": [
    "## Ejercicio 5\n",
    "\n",
    "Escribir un programa que pida al usuario que introduzca una frase en la consola y muestre por pantalla la frase invertida."
   ]
  },
  {
   "cell_type": "code",
   "execution_count": 2,
   "metadata": {},
   "outputs": [
    {
     "name": "stdout",
     "output_type": "stream",
     "text": [
      "sever la esarf anu se atsE\n"
     ]
    }
   ],
   "source": [
    "frase = input(\"Dame una frase que quieras invertir\")\n",
    "\n",
    "print(frase[::-1])"
   ]
  },
  {
   "attachments": {},
   "cell_type": "markdown",
   "metadata": {},
   "source": [
    "## Ejercicio 6\n",
    "\n",
    "Escribir un programa que pida al usuario que introduzca una frase en la consola y una vocal en minúscula, y después muestre por pantalla la misma frase pero con la vocal introducida en mayúscula."
   ]
  },
  {
   "cell_type": "code",
   "execution_count": 3,
   "metadata": {},
   "outputs": [
    {
     "name": "stdout",
     "output_type": "stream",
     "text": [
      "Mi nombrE Es FErnando\n"
     ]
    }
   ],
   "source": [
    "frase = input(\"Dame una frase \")\n",
    "vocal = input(\"Dame una vocal \")\n",
    "\n",
    "print(frase.replace(vocal,vocal.upper()))"
   ]
  },
  {
   "attachments": {},
   "cell_type": "markdown",
   "metadata": {},
   "source": [
    "## Ejercicio 7\n",
    "\n",
    "Escribir un programa que pregunte el correo electrónico del usuario en la consola y muestre por pantalla otro correo electrónico con el mismo nombre (la parte delante de la arroba `@`) pero con dominio `cucea.ugd.mx`."
   ]
  },
  {
   "cell_type": "code",
   "execution_count": 5,
   "metadata": {},
   "outputs": [
    {
     "name": "stdout",
     "output_type": "stream",
     "text": [
      "ortcafer@cucea.udg.mx\n"
     ]
    }
   ],
   "source": [
    "correo = input(\"Dame una un correo \")\n",
    "\n",
    "print(correo[:correo.find(\"@\")+1]+\"cucea.udg.mx\")"
   ]
  },
  {
   "attachments": {},
   "cell_type": "markdown",
   "metadata": {},
   "source": [
    "## Ejercicio 8\n",
    "\n",
    "Escribir un programa que pregunte por consola el precio de un producto en pesos con dos decimales y muestre por pantalla el número de euros y el número de céntavos del precio introducido."
   ]
  },
  {
   "cell_type": "code",
   "execution_count": 7,
   "metadata": {},
   "outputs": [
    {
     "name": "stdout",
     "output_type": "stream",
     "text": [
      "el numero de euros son 10\n",
      "el numero de centavos son 50\n"
     ]
    }
   ],
   "source": [
    "precio = input(\"Dame el precio de algun producto\")\n",
    "\n",
    "print(f\"el numero de euros son {precio[:precio.find('.')]}\")\n",
    "print(f\"el numero de centavos son {precio[precio.find('.')+1:]}\")\n",
    "\n"
   ]
  },
  {
   "attachments": {},
   "cell_type": "markdown",
   "metadata": {},
   "source": [
    "## Ejercicio 9\n",
    "\n",
    "Escribir un programa que pregunte al usuario la fecha de su nacimiento en formato `dd/mm/aaaa` y muestra por pantalla, el día, el mes y el año.\n"
   ]
  },
  {
   "cell_type": "code",
   "execution_count": 12,
   "metadata": {},
   "outputs": [
    {
     "name": "stdout",
     "output_type": "stream",
     "text": [
      "El día es 10\n",
      "El mes es 05\n",
      "El año es 2022\n"
     ]
    }
   ],
   "source": [
    "fecha = input(\"Dame tu fecha de nacimiento con el siguiente formato dd/mm/aaaa\")\n",
    "\n",
    "print(f\"El día es {fecha[:2]}\")\n",
    "print(f\"El mes es {fecha[3:5]}\")\n",
    "print(f\"El año es {fecha[6:]}\")"
   ]
  },
  {
   "attachments": {},
   "cell_type": "markdown",
   "metadata": {},
   "source": [
    "## Ejercicio 10\n",
    "\n",
    "Escribir un programa que pregunte por consola por los productos de una cesta de la compra, separados por comas, y muestre por pantalla cada uno de los productos en una línea distinta."
   ]
  },
  {
   "cell_type": "code",
   "execution_count": null,
   "metadata": {},
   "outputs": [],
   "source": []
  },
  {
   "cell_type": "code",
   "execution_count": 14,
   "metadata": {},
   "outputs": [
    {
     "name": "stdout",
     "output_type": "stream",
     "text": [
      "pera\n",
      "manzana\n",
      "mago\n",
      "chela\n"
     ]
    }
   ],
   "source": [
    "producto_1 = input(\"Dame los productos de una cesta separados por comas\")\n",
    "\n",
    "print(producto_1.replace(\",\",\"\\n\"))"
   ]
  }
 ],
 "metadata": {
  "kernelspec": {
   "display_name": "progra_1",
   "language": "python",
   "name": "python3"
  },
  "language_info": {
   "codemirror_mode": {
    "name": "ipython",
    "version": 3
   },
   "file_extension": ".py",
   "mimetype": "text/x-python",
   "name": "python",
   "nbconvert_exporter": "python",
   "pygments_lexer": "ipython3",
   "version": "3.8.17"
  },
  "orig_nbformat": 4
 },
 "nbformat": 4,
 "nbformat_minor": 2
}
