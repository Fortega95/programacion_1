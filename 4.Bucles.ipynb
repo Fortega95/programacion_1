{
 "cells": [
  {
   "attachments": {},
   "cell_type": "markdown",
   "metadata": {},
   "source": [
    "### Alumno: Fernando Ortega Camargo\n",
    "### No. estudiante 323018993\n",
    "### Correo: fernando.ortega1899@alumnos.udg.mx\n",
    "### Fecha: 14 / 09 / 2023"
   ]
  },
  {
   "attachments": {},
   "cell_type": "markdown",
   "metadata": {},
   "source": [
    "## Bucles  o Loops"
   ]
  },
  {
   "attachments": {},
   "cell_type": "markdown",
   "metadata": {},
   "source": [
    "Un bucle es una estructura de control que permite repetir un conjunto de instrucciones varias veces. Los bucles son una parte fundamental de la programación, ya que te permiten automatizar tareas que requieren repetición. Python admite dos tipos principales de bucles: el bucle \"for\" y el bucle \"while\".\n",
    "\n",
    "**Bucle \"for\"** : \n",
    "\n",
    "El bucle \"for\" se utiliza para iterar sobre una secuencia (como una lista, una tupla, una cadena de caracteres o un rango numérico) y ejecutar un bloque de código para cada elemento de la secuencia. Aquí tienes un ejemplo de un bucle \"for\" que recorre una lista de números e imprime cada número:\n"
   ]
  },
  {
   "cell_type": "code",
   "execution_count": 1,
   "metadata": {},
   "outputs": [
    {
     "name": "stdout",
     "output_type": "stream",
     "text": [
      "1\n",
      "2\n",
      "3\n",
      "4\n",
      "5\n"
     ]
    }
   ],
   "source": [
    "numeros = [1, 2, 3, 4, 5]\n",
    "for numero in numeros:\n",
    "    print(numero)"
   ]
  },
  {
   "attachments": {},
   "cell_type": "markdown",
   "metadata": {},
   "source": [
    "**Bucle \"while\"** :\n",
    "\n",
    "El bucle \"while\" se utiliza para repetir un bloque de código mientras una condición sea verdadera. En otras palabras, el bucle continuará ejecutándose mientras la condición especificada sea cierta. Aquí tienes un ejemplo de un bucle \"while\" que cuenta del 1 al 5:\n"
   ]
  },
  {
   "cell_type": "code",
   "execution_count": 2,
   "metadata": {},
   "outputs": [
    {
     "name": "stdout",
     "output_type": "stream",
     "text": [
      "1\n",
      "2\n",
      "3\n",
      "4\n",
      "5\n"
     ]
    }
   ],
   "source": [
    "contador = 1\n",
    "while contador <= 5:\n",
    "    print(contador)\n",
    "    contador += 1"
   ]
  },
  {
   "attachments": {},
   "cell_type": "markdown",
   "metadata": {},
   "source": [
    "**Ejercicio 1**\n",
    "\n",
    "Escribir un programa que pida al usuario una palabra y la muestre 10 veces por pantalla."
   ]
  },
  {
   "cell_type": "code",
   "execution_count": 3,
   "metadata": {},
   "outputs": [
    {
     "name": "stdout",
     "output_type": "stream",
     "text": [
      "fer\n",
      "fer\n",
      "fer\n",
      "fer\n",
      "fer\n",
      "fer\n",
      "fer\n",
      "fer\n",
      "fer\n",
      "fer\n"
     ]
    }
   ],
   "source": [
    "palabra = input(\"Dame una palabra\")\n",
    "\n",
    "for i in range(10):\n",
    "    print(palabra)"
   ]
  },
  {
   "attachments": {},
   "cell_type": "markdown",
   "metadata": {},
   "source": [
    "**Ejercicio  2**\n",
    "\n",
    "Escribir un programa que pregunte al usuario su edad y muestre por pantalla todos los años que ha cumplido (desde 1 hasta su edad)."
   ]
  },
  {
   "cell_type": "code",
   "execution_count": 8,
   "metadata": {},
   "outputs": [
    {
     "name": "stdout",
     "output_type": "stream",
     "text": [
      "has cumplido 1 años\n",
      "has cumplido 2 años\n",
      "has cumplido 3 años\n",
      "has cumplido 4 años\n",
      "has cumplido 5 años\n",
      "has cumplido 6 años\n",
      "has cumplido 7 años\n",
      "has cumplido 8 años\n",
      "has cumplido 9 años\n",
      "has cumplido 10 años\n"
     ]
    }
   ],
   "source": [
    "edad = int(input(\"Dame tu edad\"))\n",
    "\n",
    "for i in range(edad):\n",
    "    print(f\"has cumplido {(i+1)} años\")"
   ]
  },
  {
   "attachments": {},
   "cell_type": "markdown",
   "metadata": {},
   "source": [
    "**Ejercicio 3**\n",
    "\n",
    "Escribir un programa que pida al usuario un número entero positivo y muestre por pantalla todos los números impares desde 1 hasta ese número separados por comas."
   ]
  },
  {
   "cell_type": "code",
   "execution_count": 10,
   "metadata": {},
   "outputs": [
    {
     "name": "stdout",
     "output_type": "stream",
     "text": [
      "1\n",
      "3\n",
      "5\n",
      "7\n",
      "9\n"
     ]
    }
   ],
   "source": [
    "numero = int(input(\"Dame un número entero positivo\"))\n",
    "\n",
    "for i in range(1,numero):\n",
    "    if i%2 !=0:\n",
    "        print(i)"
   ]
  },
  {
   "attachments": {},
   "cell_type": "markdown",
   "metadata": {},
   "source": [
    "**Ejercicio 4**\n",
    "\n",
    "Escribir un programa que pida al usuario un número entero positivo y muestre por pantalla la cuenta atrás desde ese número hasta cero separados por comas."
   ]
  },
  {
   "cell_type": "code",
   "execution_count": 17,
   "metadata": {},
   "outputs": [
    {
     "name": "stdout",
     "output_type": "stream",
     "text": [
      "10,9,8,7,6,5,4,3,2,"
     ]
    }
   ],
   "source": [
    "numero = int(input(\"Dame un número entero positivo\"))\n",
    "\n",
    "for i in range(numero,1,-1):\n",
    "    print(i,end=\",\")"
   ]
  },
  {
   "attachments": {},
   "cell_type": "markdown",
   "metadata": {},
   "source": [
    "**Ejercicio 5**\n",
    "\n",
    "Escribir un programa que pregunte al usuario una cantidad a invertir, el interés anual y el número de años, y muestre por pantalla el capital obtenido en la inversión cada año que dura la inversión."
   ]
  },
  {
   "cell_type": "code",
   "execution_count": 24,
   "metadata": {},
   "outputs": [
    {
     "name": "stdout",
     "output_type": "stream",
     "text": [
      "Capital tras  1 años es: 105.0\n",
      "Capital tras  2 años es: 110.25\n",
      "Capital tras  3 años es: 115.76\n",
      "Capital tras  4 años es: 121.55\n",
      "Capital tras  5 años es: 127.63\n",
      "Capital tras  6 años es: 134.01\n",
      "Capital tras  7 años es: 140.71\n",
      "Capital tras  8 años es: 147.75\n",
      "Capital tras  9 años es: 155.13\n",
      "Capital tras  10 años es: 162.89\n"
     ]
    }
   ],
   "source": [
    "dinero = float(input(\"Cuanto quieres invertir ? \"))\n",
    "interes = float(input(\"¿Interés  anual? \"))\n",
    "años = int(input(\"¿a cuantos Años?\"))\n",
    "for i in range(años):\n",
    "    dinero = dinero* (1+ (interes/100))\n",
    "    print(f\"Capital tras  {i+1} años es: {round(dinero, 2)}\")"
   ]
  },
  {
   "cell_type": "code",
   "execution_count": 25,
   "metadata": {},
   "outputs": [
    {
     "name": "stdout",
     "output_type": "stream",
     "text": [
      "Capital tras  1 años es: 105.0\n",
      "Capital tras  2 años es: 110.25\n",
      "Capital tras  3 años es: 115.76\n",
      "Capital tras  4 años es: 121.55\n",
      "Capital tras  5 años es: 127.63\n",
      "Capital tras  6 años es: 134.01\n",
      "Capital tras  7 años es: 140.71\n",
      "Capital tras  8 años es: 147.75\n",
      "Capital tras  9 años es: 155.13\n",
      "Capital tras  10 años es: 162.89\n"
     ]
    }
   ],
   "source": [
    "##otra forma\n",
    "dinero = float(input(\"Cuanto quieres invertir ? \"))\n",
    "interes = float(input(\"¿Interés  anual? \"))\n",
    "años = int(input(\"¿a cuantos Años?\"))\n",
    "for i in range(años):\n",
    "    dinero *= (1+ (interes/100))\n",
    "    print(f\"Capital tras  {i+1} años es: {round(dinero, 2)}\")\n"
   ]
  },
  {
   "attachments": {},
   "cell_type": "markdown",
   "metadata": {},
   "source": [
    "**Ejercicio 6**\n",
    "\n",
    "\n",
    "Escribir un programa que pida al usuario un número entero y muestre por pantalla un triángulo rectángulo como el de más abajo, de altura el número introducido.\n",
    "\n",
    "```\n",
    "*\n",
    "**\n",
    "***\n",
    "****\n",
    "*****\n",
    "```"
   ]
  },
  {
   "cell_type": "code",
   "execution_count": 28,
   "metadata": {},
   "outputs": [
    {
     "name": "stdout",
     "output_type": "stream",
     "text": [
      "*\n",
      "**\n",
      "***\n",
      "****\n",
      "*****\n",
      "******\n",
      "*******\n",
      "********\n",
      "*********\n",
      "**********\n"
     ]
    }
   ],
   "source": [
    "numero = int(input(\"Altura del triangulo? \"))\n",
    "\n",
    "for i in range(numero):\n",
    "    print(\"*\"*(i+1))"
   ]
  },
  {
   "attachments": {},
   "cell_type": "markdown",
   "metadata": {},
   "source": [
    "**Ejercicio 7**\n",
    "\n",
    "Escribir un programa que muestre por pantalla la tabla de multiplicar del 1 al 10."
   ]
  },
  {
   "cell_type": "code",
   "execution_count": 34,
   "metadata": {},
   "outputs": [
    {
     "name": "stdout",
     "output_type": "stream",
     "text": [
      "1\t2\t3\t4\t5\t6\t7\t8\t9\t10\t\n",
      "2\t4\t6\t8\t10\t12\t14\t16\t18\t20\t\n",
      "3\t6\t9\t12\t15\t18\t21\t24\t27\t30\t\n",
      "4\t8\t12\t16\t20\t24\t28\t32\t36\t40\t\n",
      "5\t10\t15\t20\t25\t30\t35\t40\t45\t50\t\n",
      "6\t12\t18\t24\t30\t36\t42\t48\t54\t60\t\n",
      "7\t14\t21\t28\t35\t42\t49\t56\t63\t70\t\n",
      "8\t16\t24\t32\t40\t48\t56\t64\t72\t80\t\n",
      "9\t18\t27\t36\t45\t54\t63\t72\t81\t90\t\n",
      "10\t20\t30\t40\t50\t60\t70\t80\t90\t100\t\n"
     ]
    }
   ],
   "source": [
    "for i in range(1, 11):\n",
    "    for j in range(1, 11):\n",
    "        print(i*j,end=\"\\t\")\n",
    "    print(\"\")"
   ]
  },
  {
   "attachments": {},
   "cell_type": "markdown",
   "metadata": {},
   "source": [
    "**Ejercicio 8**\n",
    "\n",
    "Escribir un programa que pida al usuario un número entero y muestre por pantalla un triángulo rectángulo como el de más abajo, de altura el número introducido.\n",
    "\n",
    "```\n",
    "1\n",
    "3 1\n",
    "5 3 1\n",
    "7 5 3 1\n",
    "9 7 5 3 1\n",
    "```"
   ]
  },
  {
   "cell_type": "code",
   "execution_count": 45,
   "metadata": {},
   "outputs": [
    {
     "name": "stdout",
     "output_type": "stream",
     "text": [
      "1 \n",
      "3 1 \n",
      "5 3 1 \n",
      "7 5 3 1 \n",
      "9 7 5 3 1 \n"
     ]
    }
   ],
   "source": [
    "numero = int(input(\"Altura del triangulo? \"))\n",
    "for i in range(1, numero+1, 2):\n",
    "    for j in range(i, 0, -2):\n",
    "        print(j, end=\" \")\n",
    "    print(\"\")"
   ]
  },
  {
   "attachments": {},
   "cell_type": "markdown",
   "metadata": {},
   "source": [
    "**Ejercicio 9**\n",
    "\n",
    "Escribir un programa que almacene la cadena de caracteres `contraseña` en una variable, pregunte al usuario por la contraseña hasta que introduzca la contraseña correcta."
   ]
  },
  {
   "cell_type": "code",
   "execution_count": 46,
   "metadata": {},
   "outputs": [
    {
     "name": "stdout",
     "output_type": "stream",
     "text": [
      "Contraseña correcta\n"
     ]
    }
   ],
   "source": [
    "real_pwd = \"pwd\"\n",
    "password =\"\"\n",
    "while password != real_pwd:\n",
    "    password = input(\"Introduce la contraseña \")\n",
    "print(\"Contraseña correcta\")"
   ]
  },
  {
   "attachments": {},
   "cell_type": "markdown",
   "metadata": {},
   "source": [
    "**Ejercicio 10**\n",
    "\n",
    "Escribir un programa que pida al usuario un número entero positivo mayor que 2 y muestre por pantalla si es un número primo o no."
   ]
  },
  {
   "cell_type": "code",
   "execution_count": 48,
   "metadata": {},
   "outputs": [
    {
     "name": "stdout",
     "output_type": "stream",
     "text": [
      "5 es primo\n"
     ]
    }
   ],
   "source": [
    "numero = int(input(\"Introduce un número entero positivo mayor que 2: \"))\n",
    "i = 2\n",
    "while numero % i != 0:\n",
    "    i += 1\n",
    "if i == numero:\n",
    "    print(f\"{numero} es primo\")\n",
    "else:\n",
    "    print(f\" {numero} no es primo\")"
   ]
  }
 ],
 "metadata": {
  "kernelspec": {
   "display_name": "progra_1",
   "language": "python",
   "name": "python3"
  },
  "language_info": {
   "codemirror_mode": {
    "name": "ipython",
    "version": 3
   },
   "file_extension": ".py",
   "mimetype": "text/x-python",
   "name": "python",
   "nbconvert_exporter": "python",
   "pygments_lexer": "ipython3",
   "version": "3.8.17"
  },
  "orig_nbformat": 4
 },
 "nbformat": 4,
 "nbformat_minor": 2
}
