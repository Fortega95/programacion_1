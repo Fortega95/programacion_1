{
 "cells": [
  {
   "attachments": {},
   "cell_type": "markdown",
   "metadata": {},
   "source": [
    "### Alumno: Fernando Ortega Camargo\n",
    "### No. estudiante 323018993\n",
    "### Correo: fernando.ortega1899@alumnos.udg.mx\n",
    "### Fecha: 10 / 11 / 2023"
   ]
  },
  {
   "attachments": {},
   "cell_type": "markdown",
   "metadata": {},
   "source": [
    "## Funciones\n",
    "\n",
    "Las funciones en Python son bloques de código que están diseñados para hacer una tarea específica. Una vez que se define una función, puede ser reutilizada a lo largo de un programa. Esto ayuda a hacer los programas más organizados, reutilizables y fáciles de mantener.\n",
    "\n",
    "Aquí está la estructura básica de una función en Python:"
   ]
  },
  {
   "attachments": {},
   "cell_type": "markdown",
   "metadata": {},
   "source": [
    "**def:** Es la palabra clave que se utiliza para definir una nueva función.\n",
    "\n",
    "**nombre_de_la_funcion:** Es el nombre que se le da a la función. Debe ser único y descriptivo.\n",
    "\n",
    "**parametro1, parametro2, ...:** Son los parámetros de la función, que son los valores que la función puede recibir como entrada.\n",
    "\n",
    "**Cuerpo de la función:**  Es donde se coloca el código que define lo que hace la función.\n",
    "\n",
    "**return:** Es la palabra clave que se utiliza para retornar un valor de la función. Si no se especifica un valor de retorno, la función retornará None por defecto.\n",
    "\n",
    "**valor_de_retorno:** Es el valor que la función retorna cuando se ejecuta.\n"
   ]
  },
  {
   "cell_type": "code",
   "execution_count": 1,
   "metadata": {},
   "outputs": [
    {
     "name": "stdout",
     "output_type": "stream",
     "text": [
      "8\n"
     ]
    }
   ],
   "source": [
    "# Ejemplo de SUMA\n",
    "\n",
    "def sumar_dos_numeros(num1, num2):\n",
    "    suma = num1 + num2\n",
    "    return suma\n",
    "\n",
    "# Uso de la función\n",
    "resultado = sumar_dos_numeros(5, 3)\n",
    "print(resultado)  # Salida: 8"
   ]
  },
  {
   "attachments": {},
   "cell_type": "markdown",
   "metadata": {},
   "source": [
    "### Ejercicio 1\n",
    "\n",
    "Escribir una función que muestre por pantalla el saludo `¡Hola amiga!` cada vez que se la invoque."
   ]
  },
  {
   "cell_type": "code",
   "execution_count": 3,
   "metadata": {},
   "outputs": [
    {
     "name": "stdout",
     "output_type": "stream",
     "text": [
      "¡Hola amiga!\n"
     ]
    }
   ],
   "source": [
    "def saludo():\n",
    "    \"\"\"Función que muestra el saluco ¡Hola amiga! por pantalla.\"\"\"\n",
    "    print('¡Hola amiga!')\n",
    "    return\n",
    "\n",
    "saludo()"
   ]
  },
  {
   "attachments": {},
   "cell_type": "markdown",
   "metadata": {},
   "source": [
    "### Ejercicio 2\n",
    "\n",
    "Escribir una función a la que se le pase una cadena `<nombre>` y muestre por pantalla el saludo `¡hola <nombre>!`."
   ]
  },
  {
   "cell_type": "code",
   "execution_count": 4,
   "metadata": {},
   "outputs": [
    {
     "name": "stdout",
     "output_type": "stream",
     "text": [
      "¡Hola Fernando!\n",
      "¡Hola Seiun!\n"
     ]
    }
   ],
   "source": [
    "def saludo2(nombre):\n",
    "    \"\"\"Función que muestra un saludo por pantalla.\n",
    "    Parámetros\n",
    "    nombre: Nombre del usuario\n",
    "    Devuelve el saludo ¡Hola nombre!.\n",
    "    \"\"\"\n",
    "    print('¡Hola ' + nombre +'!')\n",
    "    return\n",
    "\n",
    "saludo2('Fernando')\n",
    "saludo2('Seiun')"
   ]
  },
  {
   "attachments": {},
   "cell_type": "markdown",
   "metadata": {},
   "source": [
    "### Ejercicio 3\n",
    "\n",
    "Escribir una función que reciba un número entero positivo y devuelva su factorial."
   ]
  },
  {
   "cell_type": "code",
   "execution_count": 8,
   "metadata": {},
   "outputs": [
    {
     "name": "stdout",
     "output_type": "stream",
     "text": [
      "120\n",
      "1\n"
     ]
    }
   ],
   "source": [
    "def factorial(n):\n",
    "    \"\"\"Función que calcula el factorial de un número entero positivo.\n",
    "    Parámetros\n",
    "    n: Es un entero positivo.\n",
    "    Devuelve el factorial de n.\n",
    "    \"\"\"\n",
    "    aux = 1\n",
    "    for i in range(n):\n",
    "        aux = aux* (i+1)\n",
    "    return aux\n",
    "\n",
    "print(factorial(5))\n",
    "print(factorial(0))"
   ]
  },
  {
   "attachments": {},
   "cell_type": "markdown",
   "metadata": {},
   "source": [
    "### Ejercicio 4\n",
    "\n",
    "Escribir una función que calcule el total de una factura tras aplicarle el IVA. La función debe recibir la cantidad sin IVA y el porcentaje de IVA a aplicar, y devolver el total de la factura. Si se invoca la función sin pasarle el porcentaje de IVA, deberá aplicar un 21%."
   ]
  },
  {
   "cell_type": "code",
   "execution_count": 9,
   "metadata": {},
   "outputs": [
    {
     "name": "stdout",
     "output_type": "stream",
     "text": [
      "550.0\n",
      "605.0\n"
     ]
    }
   ],
   "source": [
    "def factura(cantidad, iva=21):\n",
    "    \"\"\"Función de aplica el IVA a una factura.\n",
    "    Parametros\n",
    "    amount: Es la cantidad sin IVA\n",
    "    vat: Es el porcentaje de IVA\n",
    "    Devuelve el total de la factura una vez aplicado el IVA.\n",
    "    \"\"\"\n",
    "    Final=  cantidad + cantidad*iva/100\n",
    "    return Final\n",
    "\n",
    "print(factura(500,10))\n",
    "print(factura(500))"
   ]
  },
  {
   "attachments": {},
   "cell_type": "markdown",
   "metadata": {},
   "source": [
    "### Ejercicio 5\n",
    "\n",
    "Escribir una función que calcule el área de un círculo y otra que calcule el volumen de un cilindro usando la primera función."
   ]
  },
  {
   "cell_type": "code",
   "execution_count": 11,
   "metadata": {},
   "outputs": [
    {
     "name": "stdout",
     "output_type": "stream",
     "text": [
      "El volumen del cilindro es 25.132\n"
     ]
    }
   ],
   "source": [
    "def area_circulo(radio):\n",
    "    \"\"\"Función que calcula el area de un círculo.\n",
    "    Parámetros\n",
    "    radius: Es el radio del círculo.\n",
    "    Devuelve el área del círculo de radio radius.\n",
    "    \"\"\"\n",
    "    pi = 3.1415\n",
    "\n",
    "    final = pi*radio**2\n",
    "    return final\n",
    "\n",
    "def cilindro_volumen(radio, altura):\n",
    "    \"\"\"Función que calcula el volumen de un cilindro.\n",
    "    Parámetros\n",
    "    radius: Es el radio de la base del cilindro.\n",
    "    high: Es la altura del cilindro.\n",
    "    Devuelve el volumen del clindro de radio radius y altura high.\n",
    "    \"\"\"\n",
    "\n",
    "    final = area_circulo(radio)*altura\n",
    "    return final\n",
    "\n",
    "print(f\"El volumen del cilindro es {cilindro_volumen(2,2)}\")"
   ]
  },
  {
   "attachments": {},
   "cell_type": "markdown",
   "metadata": {},
   "source": [
    "### Ejercicio 6\n",
    "\n",
    "Escribir una función que reciba una muestra de números en una lista y devuelva su media, varianza y desviación típica en un diccionario."
   ]
  },
  {
   "cell_type": "code",
   "execution_count": 12,
   "metadata": {},
   "outputs": [
    {
     "name": "stdout",
     "output_type": "stream",
     "text": [
      "{'Media': 3.0, 'varianza': 2.0, 'desviacion': 1.4142135623730951}\n"
     ]
    }
   ],
   "source": [
    "def estadi(sample):\n",
    "    import numpy as np\n",
    "    \"\"\"Función que calcula la media de una muestra de números.\n",
    "    Parámetros\n",
    "    sample: Es una lista de números\n",
    "    Devuelve la media de los números en sample.\n",
    "    \"\"\"\n",
    "    final={\"Media\":np.mean(sample),\"varianza\":np.var(sample),\"desviacion\":np.std(sample)}\n",
    "\n",
    "    return final\n",
    "\n",
    "print(estadi([1, 2, 3, 4, 5]))"
   ]
  },
  {
   "attachments": {},
   "cell_type": "markdown",
   "metadata": {},
   "source": [
    "### Ejercicio 7\n",
    "\n",
    "Escribir una función que reciba una muestra de números en una lista y devuelva otra lista con sus cuadrados."
   ]
  },
  {
   "cell_type": "code",
   "execution_count": 13,
   "metadata": {},
   "outputs": [
    {
     "name": "stdout",
     "output_type": "stream",
     "text": [
      "[1, 4, 9, 16, 25]\n",
      "[5.289999999999999, 32.49, 46.239999999999995, 94.08999999999999, 146.41, 243.35999999999999]\n"
     ]
    }
   ],
   "source": [
    "def cuadrados(sample):\n",
    "    \"\"\"Función que calcula los cuadrados de una lista de números.\n",
    "    Parámetros\n",
    "    sample: Es una lista de números\n",
    "    Devuelve una lista con los cuadrados de los números de la lista sample.\n",
    "    \"\"\"\n",
    "    final = [x**2 for x in sample]\n",
    "    return final\n",
    "\n",
    "print(cuadrados([1, 2, 3, 4, 5]))\n",
    "print(cuadrados([2.3, 5.7, 6.8, 9.7, 12.1, 15.6]))"
   ]
  },
  {
   "attachments": {},
   "cell_type": "markdown",
   "metadata": {},
   "source": [
    "### Ejercicio 8\n",
    "\n",
    "Escribir una función que reciba una muestra de números en una lista y devuelva un diccionario con su media, varianza y desviación típica."
   ]
  },
  {
   "cell_type": "code",
   "execution_count": 14,
   "metadata": {},
   "outputs": [
    {
     "name": "stdout",
     "output_type": "stream",
     "text": [
      "{'Media': 3.0, 'varianza': 2.0, 'desviacion': 1.4142135623730951}\n"
     ]
    }
   ],
   "source": [
    "def estadi(sample):\n",
    "    import numpy as np\n",
    "    \"\"\"Función que calcula la media de una muestra de números.\n",
    "    Parámetros\n",
    "    sample: Es una lista de números\n",
    "    Devuelve la media de los números en sample.\n",
    "    \"\"\"\n",
    "    final={\"Media\":np.mean(sample),\"varianza\":np.var(sample),\"desviacion\":np.std(sample)}\n",
    "\n",
    "    return final\n",
    "\n",
    "print(estadi([1, 2, 3, 4, 5]))"
   ]
  },
  {
   "attachments": {},
   "cell_type": "markdown",
   "metadata": {},
   "source": [
    "### Ejercicio 9\n",
    "\n",
    "Escribir una función que calcule el máximo común divisor de dos números y otra que calcule el mínimo común múltiplo."
   ]
  },
  {
   "cell_type": "code",
   "execution_count": 15,
   "metadata": {},
   "outputs": [
    {
     "name": "stdout",
     "output_type": "stream",
     "text": [
      "12\n",
      "72\n"
     ]
    }
   ],
   "source": [
    "def mcd(n, m):\n",
    "    \"\"\"Función que calcula el máximo común divisor de dos números.\n",
    "    Parámetros:\n",
    "        - n: Es un número entero.\n",
    "        - m: Es un número entero.\n",
    "    Devuelve:\n",
    "        El máximo común divisor de n y m.\n",
    "    \"\"\"\n",
    "    rest = 0\n",
    "    while(m > 0):\n",
    "        rest = m\n",
    "        m = n % m\n",
    "        n = rest\n",
    "    return n\n",
    "\n",
    "def mcm(n, m):\n",
    "    \"\"\"Función que calcula el mínimo común múltiplo de dos números.\n",
    "    Parámetros:\n",
    "        - n: Es un número entero.\n",
    "        - m: Es un número entero.\n",
    "    Devuelve:\n",
    "        El mínimo común múltiplo de n y m.\n",
    "    \"\"\"\n",
    "    if n > m:\n",
    "        greater = n\n",
    "    else:\n",
    "        greater = m\n",
    "    while (greater % n != 0) or (greater % m != 0):\n",
    "        greater += 1\n",
    "    return greater\n",
    "\n",
    "print(mcd(24,36))\n",
    "print(mcm(24,36))"
   ]
  },
  {
   "attachments": {},
   "cell_type": "markdown",
   "metadata": {},
   "source": [
    "### Ejercicio 10\n",
    "\n",
    "Escribir una función que convierta un número decimal en binario y otra que convierta un número binario en decimal."
   ]
  },
  {
   "cell_type": "code",
   "execution_count": 16,
   "metadata": {},
   "outputs": [
    {
     "name": "stdout",
     "output_type": "stream",
     "text": [
      "30\n",
      "1010\n",
      "15\n",
      "1101\n"
     ]
    }
   ],
   "source": [
    "def decimal(n):\n",
    "    \"\"\"Función que convierte un número binario en decimal.\n",
    "    Parámetros:\n",
    "        - n: Es una cadena de ceros y unos.\n",
    "    Devuelve:\n",
    "        El número decimal correspondiente a n.\n",
    "    \"\"\"\n",
    "    n = list(n)\n",
    "    n.reverse()\n",
    "    decimal = 0\n",
    "    for i in range(len(n)):\n",
    "        decimal += int(n[i]) * 2 ** i\n",
    "    return decimal\n",
    "\n",
    "def binario(n):\n",
    "    \"\"\"Función que convierte un número decimal en binario.\n",
    "    Parámetros:\n",
    "        - n: Es un número entero.\n",
    "    Devuelve:\n",
    "        El número binario correspondiente a n.\n",
    "    \"\"\"\n",
    "    binary = []\n",
    "    while n > 0:\n",
    "        binary.append(str(n % 2))\n",
    "        n //= 2\n",
    "    binary.reverse()\n",
    "    return ''.join(binary)\n",
    "\n",
    "print(decimal('11110'))\n",
    "print(binario(10))\n",
    "print(decimal(binario(15)))\n",
    "print(binario(decimal('001101')))"
   ]
  }
 ],
 "metadata": {
  "kernelspec": {
   "display_name": "progra_1",
   "language": "python",
   "name": "python3"
  },
  "language_info": {
   "codemirror_mode": {
    "name": "ipython",
    "version": 3
   },
   "file_extension": ".py",
   "mimetype": "text/x-python",
   "name": "python",
   "nbconvert_exporter": "python",
   "pygments_lexer": "ipython3",
   "version": "3.8.17"
  },
  "orig_nbformat": 4
 },
 "nbformat": 4,
 "nbformat_minor": 2
}
