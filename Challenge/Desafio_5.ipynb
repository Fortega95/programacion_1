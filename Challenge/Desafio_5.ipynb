{
 "cells": [
  {
   "attachments": {},
   "cell_type": "markdown",
   "metadata": {},
   "source": [
    "### Alumno: Fernando Ortega Camargo\n",
    "### No. estudiante 323018993\n",
    "### Correo: fernando.ortega1899@alumnos.udg.mx\n",
    "### Fecha: 10 / 11 / 2023"
   ]
  },
  {
   "attachments": {},
   "cell_type": "markdown",
   "metadata": {},
   "source": [
    "## Desafío 5: Composición de Funciones  \n",
    "Crea una función componer que tome una lista de funciones y retorne una nueva función que represente la composición de las funciones originales. La composición de funciones es una operación donde el resultado de una función se utiliza como el argumento de la siguiente."
   ]
  },
  {
   "attachments": {},
   "cell_type": "markdown",
   "metadata": {},
   "source": [
    "Crearemos una funcion que reciba como parametros las funciones  y a partir del metodo reduce aplicarlas iterativamente"
   ]
  },
  {
   "cell_type": "code",
   "execution_count": 3,
   "metadata": {},
   "outputs": [],
   "source": [
    "# Definición de funciones individuales\n",
    "def suma_1(x):\n",
    "    return x + 1\n",
    "\n",
    "def multi_10(x):\n",
    "    return x * 10\n",
    "\n",
    "def resta_1(x):\n",
    "    return x - 1\n",
    "\n",
    "# Importación de reduce desde functools\n",
    "from functools import reduce\n",
    "\n",
    "# Definición de la función de composición\n",
    "def composicion(valor, funciones):\n",
    "    # Itera sobre la lista de funciones y aplica cada una secuencialmente al valor\n",
    "    for i in range(len(funciones)):\n",
    "        valor = funciones[i](valor)\n",
    "    return valor\n"
   ]
  },
  {
   "cell_type": "code",
   "execution_count": 4,
   "metadata": {},
   "outputs": [
    {
     "data": {
      "text/plain": [
       "'10concatenación'"
      ]
     },
     "execution_count": 4,
     "metadata": {},
     "output_type": "execute_result"
    }
   ],
   "source": [
    "# Ejemplo de composición con valores numéricos\n",
    "composicion(0, [lambda x: x + 1, lambda x: x * 10, lambda x: str(x) + \"concatenación\"])\n",
    "\n"
   ]
  },
  {
   "cell_type": "code",
   "execution_count": 5,
   "metadata": {},
   "outputs": [
    {
     "data": {
      "text/plain": [
       "'fer concztenzciónfer concztenzciónfer concztenzción'"
      ]
     },
     "execution_count": 5,
     "metadata": {},
     "output_type": "execute_result"
    }
   ],
   "source": [
    "# Ejemplo de composición con valores de cadena\n",
    "composicion(\"fer \", [lambda x: x + \"concatenación\", lambda x: x * 3, lambda x: x.replace(\"a\", \"z\")])"
   ]
  }
 ],
 "metadata": {
  "kernelspec": {
   "display_name": "progra_1",
   "language": "python",
   "name": "python3"
  },
  "language_info": {
   "codemirror_mode": {
    "name": "ipython",
    "version": 3
   },
   "file_extension": ".py",
   "mimetype": "text/x-python",
   "name": "python",
   "nbconvert_exporter": "python",
   "pygments_lexer": "ipython3",
   "version": "3.8.17"
  },
  "orig_nbformat": 4
 },
 "nbformat": 4,
 "nbformat_minor": 2
}
