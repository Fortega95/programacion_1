{
 "cells": [
  {
   "attachments": {},
   "cell_type": "markdown",
   "metadata": {},
   "source": [
    "### Alumno: Fernando Ortega Camargo\n",
    "### No. estudiante 323018993\n",
    "### Correo: fernando.ortega1899@alumnos.udg.mx\n",
    "### Fecha: 10 / 11 / 2023"
   ]
  },
  {
   "attachments": {},
   "cell_type": "markdown",
   "metadata": {},
   "source": [
    "# Desafío 8: Debugging de un Script de Ordenación\n",
    "\n",
    "Se te ha dado un script que supuestamente ordena una lista de números en orden ascendente, pero algo está mal y no funciona como debería. Tu tarea es depurar el script y hacer que funcione correctamente."
   ]
  },
  {
   "attachments": {},
   "cell_type": "markdown",
   "metadata": {},
   "source": [
    "Primeramente analicemos el script original"
   ]
  },
  {
   "cell_type": "code",
   "execution_count": 1,
   "metadata": {},
   "outputs": [],
   "source": [
    "def sort_list_bad(numbers):\n",
    "    \n",
    "    for i in range(len(numbers)):\n",
    "        for j in range(i + 1, len(numbers)):\n",
    "            if numbers[i] > numbers[j]:\n",
    "                # Aquí hay un error en la lógica de intercambio\n",
    "                temp = numbers[i]\n",
    "                numbers[i] = numbers[j]  # Este debería ser numbers[j] = temp\n",
    "    return numbers"
   ]
  },
  {
   "cell_type": "code",
   "execution_count": 2,
   "metadata": {},
   "outputs": [
    {
     "name": "stdout",
     "output_type": "stream",
     "text": [
      "Sorted list (with error): [1, 1, 1, 1, 2, 2, 2, 3, 3, 3, 5]\n"
     ]
    }
   ],
   "source": [
    "# Lista de prueba\n",
    "test_list = [3, 1, 4, 1, 5, 9, 2, 6, 5, 3, 5]   # [1, 1, 2, 3, 3, 4, 5, 5, 5, 6, 9]\n",
    "# Intenta ordenar la lista\n",
    "sorted_list = sort_list_bad(test_list)\n",
    "print(\"Sorted list (with error):\", sorted_list)\n"
   ]
  },
  {
   "attachments": {},
   "cell_type": "markdown",
   "metadata": {},
   "source": [
    "El error esta en la línea donde se realizaba el intercambio de elementos en el bucle de ordenamiento. \n",
    "\n",
    "numbers[i] = numbers[j]\n",
    "\n",
    "En el bucle de ordenamiento, cuando se encuentra que  numbers[i] > numbers[j], se debe intercambiar el valor en numbers[i] con el valor en numbers[j]. En el código original,se estaba sobrescribiendo numbers[i] antes de realizar el intercambio, lo que provocaba que ambos valores fueran iguales después de la operación y, por lo tanto, no se realizaba un intercambio efectivo.\n",
    "\n",
    "La corrección consistió en utilizar una variable temporal.\n"
   ]
  },
  {
   "cell_type": "code",
   "execution_count": 3,
   "metadata": {},
   "outputs": [
    {
     "name": "stdout",
     "output_type": "stream",
     "text": [
      "Sorted list (fixed): [1, 1, 2, 3, 3, 4, 5, 5, 5, 6, 9]\n"
     ]
    }
   ],
   "source": [
    "# Definición de la función sort_list que toma una lista de números como parámetro\n",
    "def sort_list(numbers):\n",
    "    # Itera sobre cada elemento en la lista\n",
    "    for i in range(len(numbers)):\n",
    "        # Itera sobre los elementos restantes en la lista\n",
    "        for j in range(i + 1, len(numbers)):\n",
    "            # Compara los elementos actuales\n",
    "            if numbers[i] > numbers[j]:\n",
    "                # Intercambia los elementos si el primero es mayor que el segundo\n",
    "                numbers[i], numbers[j] = numbers[j], numbers[i]\n",
    "    # Devuelve la lista ordenada\n",
    "    return numbers\n",
    "\n",
    "# Lista de prueba\n",
    "test_list = [3, 1, 4, 1, 5, 9, 2, 6, 5, 3, 5]\n",
    "\n",
    "# Intenta ordenar la lista utilizando la función sort_list\n",
    "sorted_list = sort_list(test_list)\n",
    "\n",
    "# Imprime la lista ordenada\n",
    "print(\"Sorted list (fixed):\", sorted_list)"
   ]
  }
 ],
 "metadata": {
  "kernelspec": {
   "display_name": "progra_1",
   "language": "python",
   "name": "python3"
  },
  "language_info": {
   "codemirror_mode": {
    "name": "ipython",
    "version": 3
   },
   "file_extension": ".py",
   "mimetype": "text/x-python",
   "name": "python",
   "nbconvert_exporter": "python",
   "pygments_lexer": "ipython3",
   "version": "3.8.17"
  },
  "orig_nbformat": 4
 },
 "nbformat": 4,
 "nbformat_minor": 2
}
