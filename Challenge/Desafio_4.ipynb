{
 "cells": [
  {
   "attachments": {},
   "cell_type": "markdown",
   "metadata": {},
   "source": [
    "### Alumno: Fernando Ortega Camargo\n",
    "### No. estudiante 323018993\n",
    "### Correo: fernando.ortega1899@alumnos.udg.mx\n",
    "### Fecha: 05 / 10 / 2023"
   ]
  },
  {
   "attachments": {},
   "cell_type": "markdown",
   "metadata": {},
   "source": [
    "#### Desafío 4: Implementación de Funciones map, filter, y reduce Propias  \n",
    "Crea tus propias versiones de las funciones map, filter y reduce. Estas funciones deben tomar como argumentos una función y una lista (y un valor inicial en el caso de reduce) y deben retornar un iterable (puedes retornar una lista).\n"
   ]
  },
  {
   "attachments": {},
   "cell_type": "markdown",
   "metadata": {},
   "source": [
    "# Función Map Propia"
   ]
  },
  {
   "cell_type": "code",
   "execution_count": 1,
   "metadata": {},
   "outputs": [],
   "source": [
    "def map_propia(fun,lista):    #Esta función recibe como parámetro una función a aplicar asi como una lista donde se aplicará\n",
    "    nueva = [ fun(x) for x in lista]    # se utiliza una lista de comprension para aplicar la funcion a cada elemento\n",
    "    return nueva                        # Con esto se replica la función map regresando la lista con la función aplicada sobre cada elemento"
   ]
  },
  {
   "cell_type": "code",
   "execution_count": 2,
   "metadata": {},
   "outputs": [
    {
     "data": {
      "text/plain": [
       "[1, 4, 9, 16, 25]"
      ]
     },
     "execution_count": 2,
     "metadata": {},
     "output_type": "execute_result"
    }
   ],
   "source": [
    "map_propia(lambda numero: numero * numero ,[1,2,3,4,5])    #probamos con una función de tipo int"
   ]
  },
  {
   "cell_type": "code",
   "execution_count": 3,
   "metadata": {},
   "outputs": [
    {
     "data": {
      "text/plain": [
       "[11, 12, 13, 14, 15]"
      ]
     },
     "execution_count": 3,
     "metadata": {},
     "output_type": "execute_result"
    }
   ],
   "source": [
    "map_propia(lambda x: x +10 ,[1,2,3,4,5])   #probamos con una función de tipo int"
   ]
  },
  {
   "cell_type": "code",
   "execution_count": 5,
   "metadata": {},
   "outputs": [
    {
     "data": {
      "text/plain": [
       "['letra: a', 'letra: b', 'letra: c', 'letra: d']"
      ]
     },
     "execution_count": 5,
     "metadata": {},
     "output_type": "execute_result"
    }
   ],
   "source": [
    "map_propia(lambda x: \"letra: \"+ x  ,[\"a\",\"b\",\"c\",\"d\"])   #probamos con una función de tipo str"
   ]
  },
  {
   "attachments": {},
   "cell_type": "markdown",
   "metadata": {},
   "source": [
    "# Función Filter Propia"
   ]
  },
  {
   "cell_type": "code",
   "execution_count": 12,
   "metadata": {},
   "outputs": [],
   "source": [
    "def filter_propia(fun_filtro,lista):    # Replica de función Filter, recibimos como parámetros una función filtro y una lista\n",
    "    filtro_list=[]\n",
    "    aux=0\n",
    "    for i in lista:                     # iteramos sobre nuestra lista, si comple la condición no lo agregara a la salida de la Función\n",
    "        if fun_filtro(i)==True:\n",
    "            filtro_list.append(i)\n",
    "    \n",
    "    return filtro_list"
   ]
  },
  {
   "cell_type": "code",
   "execution_count": 13,
   "metadata": {},
   "outputs": [],
   "source": [
    "#Crearemos dos funciones de tipo filtro para validar nuesttra función filter\n",
    "\n",
    "a=['Sammy', 'Ashley', 'Jo', 'Olly', 'Jackie', 'Charlie']      #lista de prueba\n",
    "\n",
    "#funciones filtro\n",
    "\n",
    "def names_vowels(x):                      # Filtramos si la inicial es una vocal\n",
    "    return x[0].lower() in 'aeiou'\n",
    "\n",
    "def two_vowels(x):                        #Filtramos si el tamaño del str es 2\n",
    "    return len(x)==2"
   ]
  },
  {
   "cell_type": "code",
   "execution_count": 14,
   "metadata": {},
   "outputs": [
    {
     "data": {
      "text/plain": [
       "['Ashley', 'Olly']"
      ]
     },
     "execution_count": 14,
     "metadata": {},
     "output_type": "execute_result"
    }
   ],
   "source": [
    "filter_propia(names_vowels,a)    #probamos nuestra función filtro"
   ]
  },
  {
   "cell_type": "code",
   "execution_count": 9,
   "metadata": {},
   "outputs": [
    {
     "data": {
      "text/plain": [
       "['Jo']"
      ]
     },
     "execution_count": 9,
     "metadata": {},
     "output_type": "execute_result"
    }
   ],
   "source": [
    "filter_propia(two_vowels,a)     #probamos nuestra función filtro"
   ]
  },
  {
   "cell_type": "code",
   "execution_count": 11,
   "metadata": {},
   "outputs": [
    {
     "data": {
      "text/plain": [
       "[1, 3, 5, 6]"
      ]
     },
     "execution_count": 11,
     "metadata": {},
     "output_type": "execute_result"
    }
   ],
   "source": [
    "filter_propia(lambda x: x>0,[-5,-4,-2,-1,0,1,3,5,6])  #probamos una nueva función numérica"
   ]
  },
  {
   "attachments": {},
   "cell_type": "markdown",
   "metadata": {},
   "source": [
    "# Función Reduce Propia"
   ]
  },
  {
   "cell_type": "code",
   "execution_count": 15,
   "metadata": {},
   "outputs": [],
   "source": [
    "#Replicamos la función en dos casos, cuando se tenga valor inicial o cuando se deje por defecto el primer valor de la lista\n",
    "\n",
    "def reduce_propia(fun,lista,inicial=None):   # como parámetros iniciales una función , una lista y si se necesita valor inicial,\n",
    "    if inicial==None:                        # si no esta por defecto como nulo \n",
    "        new=lista[0]\n",
    "        for i in range(len(lista)-1):        # Se itera sobre la lista y cada paso toma la operación anterior con el siguiente elemento\n",
    "            new=fun(new,lista[i+1])   \n",
    "        return(new)\n",
    "    else:\n",
    "        new=inicial\n",
    "        for i in range(len(lista)):\n",
    "            new=fun(new,lista[i])\n",
    "        return(new)\n"
   ]
  },
  {
   "cell_type": "code",
   "execution_count": 20,
   "metadata": {},
   "outputs": [
    {
     "data": {
      "text/plain": [
       "38"
      ]
     },
     "execution_count": 20,
     "metadata": {},
     "output_type": "execute_result"
    }
   ],
   "source": [
    "reduce_propia(lambda x,y:x+y,[1,2,3,4,5,6,7],10)   # Probamos con una función numerica con valor inicial"
   ]
  },
  {
   "cell_type": "code",
   "execution_count": 22,
   "metadata": {},
   "outputs": [
    {
     "data": {
      "text/plain": [
       "28"
      ]
     },
     "execution_count": 22,
     "metadata": {},
     "output_type": "execute_result"
    }
   ],
   "source": [
    "reduce_propia(lambda x,y:x+y,[1,2,3,4,5,6,7]) # Probamos con una función numerica sin valor inicial"
   ]
  },
  {
   "cell_type": "code",
   "execution_count": 21,
   "metadata": {},
   "outputs": [
    {
     "data": {
      "text/plain": [
       "'abcd'"
      ]
     },
     "execution_count": 21,
     "metadata": {},
     "output_type": "execute_result"
    }
   ],
   "source": [
    "reduce_propia(lambda x,y:x+y,[\"a\",\"b\",\"c\",\"d\"])  # Probamos con una función tipo str sin valor inicial"
   ]
  },
  {
   "cell_type": "code",
   "execution_count": 19,
   "metadata": {},
   "outputs": [
    {
     "data": {
      "text/plain": [
       "'fabcd'"
      ]
     },
     "execution_count": 19,
     "metadata": {},
     "output_type": "execute_result"
    }
   ],
   "source": [
    "reduce_propia(lambda x,y:x+y,[\"a\",\"b\",\"c\",\"d\"],\"f\")  # Probamos con una funcion tipo str con valor inicial"
   ]
  }
 ],
 "metadata": {
  "kernelspec": {
   "display_name": "progra_1",
   "language": "python",
   "name": "python3"
  },
  "language_info": {
   "codemirror_mode": {
    "name": "ipython",
    "version": 3
   },
   "file_extension": ".py",
   "mimetype": "text/x-python",
   "name": "python",
   "nbconvert_exporter": "python",
   "pygments_lexer": "ipython3",
   "version": "3.8.17"
  },
  "orig_nbformat": 4
 },
 "nbformat": 4,
 "nbformat_minor": 2
}
