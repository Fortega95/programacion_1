{
 "cells": [
  {
   "attachments": {},
   "cell_type": "markdown",
   "metadata": {},
   "source": [
    "### Alumno: Fernando Ortega Camargo\n",
    "### No. estudiante 323018993\n",
    "### Correo: fernando.ortega1899@alumnos.udg.mx\n",
    "### Fecha: 21 / 09 / 2023"
   ]
  },
  {
   "attachments": {},
   "cell_type": "markdown",
   "metadata": {},
   "source": [
    "## Desafios"
   ]
  },
  {
   "attachments": {},
   "cell_type": "markdown",
   "metadata": {},
   "source": [
    "#### Desafío 1: Palíndromos\n",
    "Un palíndromo es una palabra o frase que se lee igual de adelante hacia atrás que de atrás hacia adelante, ignorando los espacios, puntuación y capitalización. El desafío es crear un programa que tome una cadena ingresada por el usuario y determine si es un palíndromo."
   ]
  },
  {
   "cell_type": "code",
   "execution_count": 1,
   "metadata": {},
   "outputs": [],
   "source": [
    "# Se definirá una función que contenga la opción de validar tanto palabras como frases, la función no requiere parámetros iniciales\n",
    "\n",
    "def palindromo():\n",
    "    palabra= input(\"ingresa una palabra o frase a validar\")   # primeramente se genera un input con un mensaje solicitando la palabra o frase\n",
    "\n",
    "    palabra_aux= palabra.replace(\" \",\"\").lower()              # se valida el texto puro sin considerar si es mayúscula minúscula, por lo que cada comparación se modifica todo a minúsculas\n",
    "    palabra2= palabra[::-1].replace(\" \",\"\").lower()\n",
    "\n",
    "    if palabra_aux == palabra2:\n",
    "        return(f\"'{palabra}' : es palíndromo\")                # se entrega como return la salida de esta función, teniendo la cadena que indica la palabra o frase, y si esta es palíndromo\n",
    "    else:\n",
    "        return(f\"'{palabra}' :NO es palíndromo\")\n",
    "\n"
   ]
  },
  {
   "cell_type": "code",
   "execution_count": 10,
   "metadata": {},
   "outputs": [
    {
     "data": {
      "text/plain": [
       "\"'Radar' : es palíndromo\""
      ]
     },
     "execution_count": 10,
     "metadata": {},
     "output_type": "execute_result"
    }
   ],
   "source": [
    "  # se testearan algunos escenarios \n",
    " # 1- Palabra   Radar\n",
    "palindromo()  "
   ]
  },
  {
   "cell_type": "code",
   "execution_count": 11,
   "metadata": {},
   "outputs": [
    {
     "data": {
      "text/plain": [
       "\"'ligar es ser agil' : es palíndromo\""
      ]
     },
     "execution_count": 11,
     "metadata": {},
     "output_type": "execute_result"
    }
   ],
   "source": [
    " # 1- Frase   ligar es ser agil\n",
    "palindromo()"
   ]
  },
  {
   "cell_type": "code",
   "execution_count": 12,
   "metadata": {},
   "outputs": [
    {
     "data": {
      "text/plain": [
       "\"'Fernando Ortega Camargo' :NO es palíndromo\""
      ]
     },
     "execution_count": 12,
     "metadata": {},
     "output_type": "execute_result"
    }
   ],
   "source": [
    "# Frase que no cumpla  Fernando Ortega Camargo\n",
    "palindromo()"
   ]
  },
  {
   "attachments": {},
   "cell_type": "markdown",
   "metadata": {},
   "source": [
    "La función cumple correctamente la validación de palabras y Frases"
   ]
  }
 ],
 "metadata": {
  "kernelspec": {
   "display_name": "progra_1",
   "language": "python",
   "name": "python3"
  },
  "language_info": {
   "codemirror_mode": {
    "name": "ipython",
    "version": 3
   },
   "file_extension": ".py",
   "mimetype": "text/x-python",
   "name": "python",
   "nbconvert_exporter": "python",
   "pygments_lexer": "ipython3",
   "version": "3.8.17"
  },
  "orig_nbformat": 4
 },
 "nbformat": 4,
 "nbformat_minor": 2
}
