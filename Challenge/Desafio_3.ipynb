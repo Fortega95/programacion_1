{
 "cells": [
  {
   "attachments": {},
   "cell_type": "markdown",
   "metadata": {},
   "source": [
    "### Alumno: Fernando Ortega Camargo\n",
    "### No. estudiante 323018993\n",
    "### Correo: fernando.ortega1899@alumnos.udg.mx\n",
    "### Fecha: 05 / 10 / 2023"
   ]
  },
  {
   "attachments": {},
   "cell_type": "markdown",
   "metadata": {},
   "source": [
    "#### Desafío 3: Administrador de contactos\n",
    "Crea un programa que permita administrar una lista de contactos. Cada contacto deberá tener un nombre, un número de teléfono y una dirección de correo electrónico. El programa deberá ofrecer las siguientes funcionalidades:  \n",
    "* Agregar un contacto nuevo\n",
    "* Ver la lista de contactos\n",
    "* Buscar un contacto por nombre\n",
    "* Eliminar un contacto por nombre  \n",
    "Usa listas y tuplas para almacenar los contactos y un diccionario para almacenar la información de cada contacto. También deberás crear distintas funciones para cada una de las funcionalidades.\n"
   ]
  },
  {
   "cell_type": "code",
   "execution_count": 1,
   "metadata": {},
   "outputs": [],
   "source": [
    "# creamos nuestro diccionario con la siguiente estructura\n",
    "# {\"nombre\":[\"telefono\",correo]}\n",
    "\n",
    "agenda = {}    #definiremos el diccionario vacio para llenarlo con las funciones"
   ]
  },
  {
   "cell_type": "code",
   "execution_count": 2,
   "metadata": {},
   "outputs": [],
   "source": [
    "## definimos las funciones necesarias\n",
    "\n",
    "### 1 Función para agregar contactos\n",
    "\n",
    "def agregar_contacto(agenda): #Como parametro se le tiene que pasar la agenda a agregar ( un diccionario)\n",
    "    nombre = input(\"Cual es el nombre de tu contacto?\")   #preguntamos nombre y validamos con un If si ya se ha registrado\n",
    "    if nombre in agenda.keys():\n",
    "        print(\"Conttacto ya existe en agenda\")\n",
    "    else:\n",
    "        telefono = input(\"Cual es el telefono de tu contacto?\")   # si no se ha registrado guardamos las demas variables\n",
    "        mail = input(\"Cual es el correo de tu contacto?\")\n",
    "        agenda[nombre]=[telefono,mail]    #añadimos el registro en nuestro diccionario\n",
    "        return agenda  #regresamos la agenda con el nuevo registro\n",
    "\n",
    "    \n",
    "### 2 Función para ver contactos\n",
    "\n",
    "def ver_contactos(agenda):   # los contactos se guardaran en las llaves del diccionario por lo que solo mostramos estos valores\n",
    "    print(\"Tus contactos son :\") #iterando dentro de las llaves del diccionario\n",
    "    for i in agenda.keys():\n",
    "        print(\"    \")\n",
    "        print(i)\n",
    "\n",
    "        \n",
    "    return list(agenda.keys())\n",
    " \n",
    "    \n",
    "### 3 Función para buscar contactos    \n",
    "    \n",
    "def buscar_contacto(agenda,nombre):   #como parametros se requiere la agenda para usar y el nombre a buscar\n",
    "    if nombre in agenda.keys():     #Se valida que el nombre ya exista en la agenda con un if\n",
    "        print(\"Informacion de contacto: \")   #si existe se muestra la informacion del contacto\n",
    "        print(\" \")\n",
    "        print(f\"Nombre: {nombre}\")\n",
    "        print(\" \")\n",
    "        print(f\"Telefono: {agenda['Fernando Ortega'][0]}\")\n",
    "        print(\" \")\n",
    "        print(f\"Nombre: {agenda['Fernando Ortega'][1]}\")\n",
    "        return agenda[nombre]   #se devuelve como lista dicha info ´por si se necesita su uso posterior\n",
    "    else:\n",
    "        print(\"El contacto no ha sido registrado\")\n",
    "\n",
    "        \n",
    "### 4 Función para borrar contactos \n",
    "def borrar_contacto(agenda,nombre): #como parametros se requiere la agenda para usar y el nombre a borrar\n",
    "    if nombre in agenda.keys():  #Se valida que el nombre ya exista en la agenda con un if\n",
    "        print(f\"contacto eliminado: {nombre}\")\n",
    "        agenda.pop(nombre)        # Si hay coincidencia se usa la funcion pop y se elimina de la lista\n",
    "    else:\n",
    "        print(\"El contacto no ha sido registrado\")"
   ]
  },
  {
   "attachments": {},
   "cell_type": "markdown",
   "metadata": {},
   "source": [
    "#### Comprobamos funcionalidad"
   ]
  },
  {
   "cell_type": "code",
   "execution_count": 3,
   "metadata": {},
   "outputs": [
    {
     "data": {
      "text/plain": [
       "{}"
      ]
     },
     "execution_count": 3,
     "metadata": {},
     "output_type": "execute_result"
    }
   ],
   "source": [
    "agenda   # validamos la agenda vacia"
   ]
  },
  {
   "cell_type": "code",
   "execution_count": 4,
   "metadata": {},
   "outputs": [
    {
     "data": {
      "text/plain": [
       "{'Fernando Ortega': ['555649454554', 'ortcam@gmail.com']}"
      ]
     },
     "execution_count": 4,
     "metadata": {},
     "output_type": "execute_result"
    }
   ],
   "source": [
    "#Agregamos 4 contactos\n",
    "agregar_contacto(agenda)\n"
   ]
  },
  {
   "cell_type": "code",
   "execution_count": 5,
   "metadata": {},
   "outputs": [
    {
     "data": {
      "text/plain": [
       "{'Fernando Ortega': ['555649454554', 'ortcam@gmail.com'],\n",
       " 'Camille hernandez': ['5546444457', 'cami@hotmail.com']}"
      ]
     },
     "execution_count": 5,
     "metadata": {},
     "output_type": "execute_result"
    }
   ],
   "source": [
    "agregar_contacto(agenda)"
   ]
  },
  {
   "cell_type": "code",
   "execution_count": 6,
   "metadata": {},
   "outputs": [
    {
     "data": {
      "text/plain": [
       "{'Fernando Ortega': ['555649454554', 'ortcam@gmail.com'],\n",
       " 'Camille hernandez': ['5546444457', 'cami@hotmail.com'],\n",
       " 'Victor Bernal': ['4445474457', 'alevic@gmail.com']}"
      ]
     },
     "execution_count": 6,
     "metadata": {},
     "output_type": "execute_result"
    }
   ],
   "source": [
    "agregar_contacto(agenda)"
   ]
  },
  {
   "cell_type": "code",
   "execution_count": 7,
   "metadata": {},
   "outputs": [
    {
     "data": {
      "text/plain": [
       "{'Fernando Ortega': ['555649454554', 'ortcam@gmail.com'],\n",
       " 'Camille hernandez': ['5546444457', 'cami@hotmail.com'],\n",
       " 'Victor Bernal': ['4445474457', 'alevic@gmail.com'],\n",
       " 'iris ortega': ['5546445547', 'iris@gmail.com']}"
      ]
     },
     "execution_count": 7,
     "metadata": {},
     "output_type": "execute_result"
    }
   ],
   "source": [
    "agregar_contacto(agenda)"
   ]
  },
  {
   "cell_type": "code",
   "execution_count": 8,
   "metadata": {},
   "outputs": [
    {
     "name": "stdout",
     "output_type": "stream",
     "text": [
      "Tus contactos son :\n",
      "    \n",
      "Fernando Ortega\n",
      "    \n",
      "Camille hernandez\n",
      "    \n",
      "Victor Bernal\n",
      "    \n",
      "iris ortega\n"
     ]
    },
    {
     "data": {
      "text/plain": [
       "['Fernando Ortega', 'Camille hernandez', 'Victor Bernal', 'iris ortega']"
      ]
     },
     "execution_count": 8,
     "metadata": {},
     "output_type": "execute_result"
    }
   ],
   "source": [
    "# veamos la lista de contactos guardados\n",
    "ver_contactos(agenda)"
   ]
  },
  {
   "cell_type": "code",
   "execution_count": 9,
   "metadata": {},
   "outputs": [
    {
     "name": "stdout",
     "output_type": "stream",
     "text": [
      "Informacion de contacto: \n",
      " \n",
      "Nombre: Fernando Ortega\n",
      " \n",
      "Telefono: 555649454554\n",
      " \n",
      "Nombre: ortcam@gmail.com\n"
     ]
    },
    {
     "data": {
      "text/plain": [
       "['555649454554', 'ortcam@gmail.com']"
      ]
     },
     "execution_count": 9,
     "metadata": {},
     "output_type": "execute_result"
    }
   ],
   "source": [
    "# busquemos contacto por nombre\n",
    "\n",
    "buscar_contacto(agenda,\"Fernando Ortega\")"
   ]
  },
  {
   "cell_type": "code",
   "execution_count": 10,
   "metadata": {},
   "outputs": [
    {
     "name": "stdout",
     "output_type": "stream",
     "text": [
      "El contacto no ha sido registrado\n"
     ]
    }
   ],
   "source": [
    "# Procedemos a borrar un contacto\n",
    "borrar_contacto(agenda,\"Luis armando\")"
   ]
  },
  {
   "cell_type": "code",
   "execution_count": 11,
   "metadata": {},
   "outputs": [
    {
     "name": "stdout",
     "output_type": "stream",
     "text": [
      "contacto eliminado: Fernando Ortega\n"
     ]
    }
   ],
   "source": [
    "borrar_contacto(agenda,\"Fernando Ortega\")"
   ]
  },
  {
   "cell_type": "code",
   "execution_count": 12,
   "metadata": {},
   "outputs": [
    {
     "name": "stdout",
     "output_type": "stream",
     "text": [
      "Tus contactos son :\n",
      "    \n",
      "Camille hernandez\n",
      "    \n",
      "Victor Bernal\n",
      "    \n",
      "iris ortega\n"
     ]
    },
    {
     "data": {
      "text/plain": [
       "['Camille hernandez', 'Victor Bernal', 'iris ortega']"
      ]
     },
     "execution_count": 12,
     "metadata": {},
     "output_type": "execute_result"
    }
   ],
   "source": [
    "# y vemos nuestra lista para validar su eliminación\n",
    "ver_contactos(agenda)"
   ]
  }
 ],
 "metadata": {
  "kernelspec": {
   "display_name": "progra_1",
   "language": "python",
   "name": "python3"
  },
  "language_info": {
   "codemirror_mode": {
    "name": "ipython",
    "version": 3
   },
   "file_extension": ".py",
   "mimetype": "text/x-python",
   "name": "python",
   "nbconvert_exporter": "python",
   "pygments_lexer": "ipython3",
   "version": "3.8.17"
  },
  "orig_nbformat": 4
 },
 "nbformat": 4,
 "nbformat_minor": 2
}
