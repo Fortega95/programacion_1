{
 "cells": [
  {
   "attachments": {},
   "cell_type": "markdown",
   "metadata": {},
   "source": [
    "### Alumno: Fernando Ortega Camargo\n",
    "### No. estudiante 323018993\n",
    "### Correo: fernando.ortega1899@alumnos.udg.mx\n",
    "### Fecha: 21 / 09 / 2023"
   ]
  },
  {
   "attachments": {},
   "cell_type": "markdown",
   "metadata": {},
   "source": [
    "#### Desafío 2: Generador de Histograma\n",
    "Crear un programa que tome una lista de números y genere un histograma basado en esos números, usando asteriscos para crear las barras del histograma.\n"
   ]
  },
  {
   "attachments": {},
   "cell_type": "markdown",
   "metadata": {},
   "source": [
    "#### opcion 1"
   ]
  },
  {
   "cell_type": "code",
   "execution_count": null,
   "metadata": {},
   "outputs": [],
   "source": [
    "#Se generará un histograma horizontal considerando los siguientes pasos\n",
    "# 1 Se toman los valores únicos de la lista\n",
    "# 2 Se ordenan de menor a mayor\n",
    "# 3 se realiza el conteo de cada registro en la lista original\n",
    "# 4 se grafican dichos conteos"
   ]
  },
  {
   "cell_type": "code",
   "execution_count": 104,
   "metadata": {},
   "outputs": [],
   "source": [
    "#Utilizaremos esta lista de prueba\n",
    "lista=[10,10,10,10,1,3,3,4,4,5,5,5,6,6,7,8,9,9,1,2,3,3]"
   ]
  },
  {
   "cell_type": "code",
   "execution_count": 109,
   "metadata": {},
   "outputs": [
    {
     "name": "stdout",
     "output_type": "stream",
     "text": [
      "HISTOGRAMA VERTICAL\n",
      "\n",
      "1 --- **\n",
      "2 --- *\n",
      "3 --- ****\n",
      "4 --- **\n",
      "5 --- ***\n",
      "6 --- **\n",
      "7 --- *\n",
      "8 --- *\n",
      "9 --- **\n",
      "10 --- ****\n"
     ]
    }
   ],
   "source": [
    "print(\"HISTOGRAMA VERTICAL\")\n",
    "print()\n",
    "for i in list(set(sorted(lista))):            # utilizamos una función sorted para ordenar la lista y posteriormente un parseo a datos set que son conjuntos ( valores únicos)\n",
    "    \n",
    "    print(i,\"---\",lista.count(i)*\"*\")         # iteramos sobre estos valores únicos y hacemos un conteo de cuantas veces aparece en la lista original, a su vez usamos ese valor con el operador * para construir la altura del histograma\n",
    "                                              # imprimimos un indicador del valor asi como su conteo dentro de la lista"
   ]
  },
  {
   "attachments": {},
   "cell_type": "markdown",
   "metadata": {},
   "source": [
    "##### Opcion 2"
   ]
  },
  {
   "cell_type": "code",
   "execution_count": 105,
   "metadata": {},
   "outputs": [],
   "source": [
    "#Utilizaremos esta lista de prueba\n",
    "lista=[10,10,10,10,1,3,3,4,4,5,5,5,6,6,7,8,9,9,1,2,3,3]"
   ]
  },
  {
   "cell_type": "code",
   "execution_count": 113,
   "metadata": {},
   "outputs": [
    {
     "name": "stdout",
     "output_type": "stream",
     "text": [
      "HISTOGRAMA VERTICAL\n",
      "                    \n",
      "                    \n",
      "                    \n",
      "                    \n",
      "                    \n",
      "                    \n",
      "    *             * \n",
      "    *   *         * \n",
      "*   * * * *     * * \n",
      "* * * * * * * * * * \n",
      "1 2 3 4 5 6 7 8 9 10\n"
     ]
    }
   ],
   "source": [
    "print(\"HISTOGRAMA VERTICAL\")\n",
    "\n",
    "cont=0                                       #contador que itera sobre cada elemento único y valida por iteración si ya se lleno el * asociado a su número de apariciones\n",
    "linea = \"\"                                   #sobre esta variable concatenaremos los asteriscos por cada iteración dentro de la lista original: si tenemos 1---2 veces, 2---1 vez y 3---1 vez para la primer iteración la lista\n",
    "lineas_full=[]                               # con valores únicos [1,2,3] tendría   [* , * , *] pues todos tienen aparición, para la segunda tendriamos [* ,  , ] pues para 2 ya apareció su asterisco en la pasada e igual para 3\n",
    "for i in list(set(sorted(lista))):          #iteramos sobre la lista original ordenada y con valores únicos    \n",
    "\n",
    "    \n",
    "    linea = \"\"\n",
    "    for j in list(set(sorted(lista))):      #por cada iteración del arreglo de valores únicos iteramos de nuevo sobre todo el arreglo para hacer los arreglos de apariciones\n",
    "\n",
    "        if cont < lista.count(j):           #si ya apareció su asterisco se cuenta en el contador, y con el count comparamos que aparezcan estos * hasta que se hayan imprimido el número de * por apariciones\n",
    "            linea += \"* \"\n",
    "        else:\n",
    "            linea+=\"  \"                     # si ya se alcanzó el numero de apariciones imprime \" \"\n",
    "    lineas_full.append(linea)               #sobre esta lista guardamos las lineas con asteriscos\n",
    "    cont +=1\n",
    "\n",
    "for i in lineas_full[::-1]:                 #iteramos sobre nuestra lista pero empezando del que tuvo mas apariciones al menos para que salga de arriba a abajo el histograma\n",
    "    print(i)\n",
    "\n",
    "print(\" \".join(map(str,list(set(lista)))))  #imprimimos nuestros valores únicos iniciales ordenados\n",
    "   \n",
    "        \n",
    "\n",
    "    "
   ]
  }
 ],
 "metadata": {
  "kernelspec": {
   "display_name": "progra_1",
   "language": "python",
   "name": "python3"
  },
  "language_info": {
   "codemirror_mode": {
    "name": "ipython",
    "version": 3
   },
   "file_extension": ".py",
   "mimetype": "text/x-python",
   "name": "python",
   "nbconvert_exporter": "python",
   "pygments_lexer": "ipython3",
   "version": "3.8.17"
  },
  "orig_nbformat": 4
 },
 "nbformat": 4,
 "nbformat_minor": 2
}
