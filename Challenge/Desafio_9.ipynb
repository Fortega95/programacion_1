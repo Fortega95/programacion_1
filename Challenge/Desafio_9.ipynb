{
 "cells": [
  {
   "attachments": {},
   "cell_type": "markdown",
   "metadata": {},
   "source": [
    "### Alumno: Fernando Ortega Camargo\n",
    "### No. estudiante 323018993\n",
    "### Correo: fernando.ortega1899@alumnos.udg.mx\n",
    "### Fecha: 10 / 11 / 2023"
   ]
  },
  {
   "attachments": {},
   "cell_type": "markdown",
   "metadata": {},
   "source": [
    "## Desafío 9: Identificación y Corrección de un Error de Tipo\n",
    "En el siguiente script, se te da una función que toma una lista de strings y concatena todos los strings en una sola cadena. Sin embargo, si se le pasa una lista que contiene elementos no-string, fallará con un TypeError. Tu tarea es depurar el script y modificarlo para que funcione correctamente con listas que contienen diferentes tipos de elementos."
   ]
  },
  {
   "attachments": {},
   "cell_type": "markdown",
   "metadata": {},
   "source": [
    "Primeramente nalizaremos el script para validar donde esta el error"
   ]
  },
  {
   "cell_type": "code",
   "execution_count": 1,
   "metadata": {},
   "outputs": [
    {
     "name": "stdout",
     "output_type": "stream",
     "text": [
      "TypeError: can only concatenate str (not \"int\") to str\n"
     ]
    }
   ],
   "source": [
    "def concatenate_list_of_strings(string_list):\n",
    "    # Esta función fallará si encuentra un no-string en la lista\n",
    "    concatenated_string = \"\"\n",
    "    for item in string_list:\n",
    "        concatenated_string += item  # Esto provocará TypeError si item no es un string\n",
    "    return concatenated_string\n",
    "\n",
    "# Lista de prueba con diferentes tipos de elementos\n",
    "mixed_list = [\"hello\", \"world\", 123, True, \"!\", 42.0]\n",
    "\n",
    "# Intento de concatenar la lista\n",
    "try:\n",
    "    result = concatenate_list_of_strings(mixed_list)\n",
    "    print(\"Concatenated Result:\", result)\n",
    "except TypeError as e:\n",
    "    print(\"TypeError:\", e)\n"
   ]
  },
  {
   "attachments": {},
   "cell_type": "markdown",
   "metadata": {},
   "source": [
    "### Debugging"
   ]
  },
  {
   "cell_type": "code",
   "execution_count": 2,
   "metadata": {},
   "outputs": [],
   "source": [
    "mixed_list = [\"hello\", \"world\", 123, True, \"!\", 42.0]"
   ]
  },
  {
   "cell_type": "code",
   "execution_count": 3,
   "metadata": {},
   "outputs": [],
   "source": [
    " concatenated_string = \"\"  # Se inicializa el valor donde concatenaremos el texto"
   ]
  },
  {
   "cell_type": "code",
   "execution_count": 4,
   "metadata": {},
   "outputs": [
    {
     "name": "stdout",
     "output_type": "stream",
     "text": [
      "hello\n",
      "world\n",
      "123\n",
      "True\n",
      "!\n",
      "42.0\n"
     ]
    }
   ],
   "source": [
    "for item in mixed_list:   #sacamos cada elemento de la lista\n",
    "    print(item)"
   ]
  },
  {
   "cell_type": "code",
   "execution_count": 5,
   "metadata": {},
   "outputs": [
    {
     "ename": "TypeError",
     "evalue": "can only concatenate str (not \"int\") to str",
     "output_type": "error",
     "traceback": [
      "\u001b[1;31m---------------------------------------------------------------------------\u001b[0m",
      "\u001b[1;31mTypeError\u001b[0m                                 Traceback (most recent call last)",
      "Cell \u001b[1;32mIn[5], line 2\u001b[0m\n\u001b[0;32m      1\u001b[0m \u001b[39mfor\u001b[39;00m item \u001b[39min\u001b[39;00m mixed_list:   \u001b[39m#sacamos cada elemento de la lista\u001b[39;00m\n\u001b[1;32m----> 2\u001b[0m     concatenated_string \u001b[39m+\u001b[39m\u001b[39m=\u001b[39m item\n",
      "\u001b[1;31mTypeError\u001b[0m: can only concatenate str (not \"int\") to str"
     ]
    }
   ],
   "source": [
    "for item in mixed_list:   #sacamos cada elemento de la lista\n",
    "    concatenated_string += item"
   ]
  },
  {
   "attachments": {},
   "cell_type": "markdown",
   "metadata": {},
   "source": [
    "En esta linea está el error, el cual proviene de tratar de concatenar elementos string con elementos de tipos diferentes como:"
   ]
  },
  {
   "cell_type": "code",
   "execution_count": 6,
   "metadata": {},
   "outputs": [
    {
     "ename": "TypeError",
     "evalue": "can only concatenate str (not \"bool\") to str",
     "output_type": "error",
     "traceback": [
      "\u001b[1;31m---------------------------------------------------------------------------\u001b[0m",
      "\u001b[1;31mTypeError\u001b[0m                                 Traceback (most recent call last)",
      "Cell \u001b[1;32mIn[6], line 1\u001b[0m\n\u001b[1;32m----> 1\u001b[0m \u001b[39m\"\u001b[39;49m\u001b[39mstring\u001b[39;49m\u001b[39m\"\u001b[39;49m \u001b[39m+\u001b[39;49m \u001b[39mTrue\u001b[39;49;00m\n",
      "\u001b[1;31mTypeError\u001b[0m: can only concatenate str (not \"bool\") to str"
     ]
    }
   ],
   "source": [
    "\"string\" + True"
   ]
  },
  {
   "attachments": {},
   "cell_type": "markdown",
   "metadata": {},
   "source": [
    "Las soluciones propuestas irán desde parcear todos los datos a tipo string para concatenarlos ó saltarno los elementos que identifiquemos como no string"
   ]
  },
  {
   "attachments": {},
   "cell_type": "markdown",
   "metadata": {},
   "source": [
    "## Opcion 1"
   ]
  },
  {
   "cell_type": "code",
   "execution_count": 7,
   "metadata": {},
   "outputs": [
    {
     "name": "stdout",
     "output_type": "stream",
     "text": [
      "Concatenated Result: helloworld!\n"
     ]
    }
   ],
   "source": [
    "# Definición de la función concatenate_list_of_strings que toma una lista de cadenas como parámetro\n",
    "def concatenate_list_of_strings(string_list):\n",
    "    # Inicialización de la cadena concatenada\n",
    "    concatenated_string = \"\"\n",
    "\n",
    "    # Iteración sobre cada elemento en la lista\n",
    "    for item in string_list:\n",
    "        # Verificación si el elemento es una cadena\n",
    "        if isinstance(item, str):\n",
    "            # Concatenación del elemento a la cadena resultante\n",
    "            concatenated_string += str(item) \n",
    "\n",
    "    # Devolución de la cadena resultante\n",
    "    return concatenated_string\n",
    "\n",
    "# Lista mixta de prueba que contiene cadenas, números, y booleanos\n",
    "mixed_list = [\"hello\", \"world\", 123, True, \"!\", 42.0]\n",
    "\n",
    "# Llamada a la función para concatenar las cadenas de la lista\n",
    "result = concatenate_list_of_strings(mixed_list)\n",
    "\n",
    "# Imprime el resultado de la concatenación\n",
    "print(\"Concatenated Result:\", result)"
   ]
  },
  {
   "attachments": {},
   "cell_type": "markdown",
   "metadata": {},
   "source": [
    "Este script define una función llamada concatenate_list_of_strings que toma una lista y concatena solo los elementos que son cadenas de texto. Luego, se prueba la función con una lista mixta que contiene cadenas, números y booleanos, y se imprime el resultado de la concatenación."
   ]
  },
  {
   "attachments": {},
   "cell_type": "markdown",
   "metadata": {},
   "source": [
    "## Opción 2"
   ]
  },
  {
   "cell_type": "code",
   "execution_count": 8,
   "metadata": {},
   "outputs": [
    {
     "name": "stdout",
     "output_type": "stream",
     "text": [
      "Concatenated Result: helloworld123True!42.0\n"
     ]
    }
   ],
   "source": [
    "# Definición de la función concatenate_list_of_strings_2 que toma una lista de elementos y los concatena todos como cadenas\n",
    "def concatenate_list_of_strings_2(string_list):\n",
    "    # Inicialización de la cadena concatenada\n",
    "    concatenated_string = \"\"\n",
    "    \n",
    "    # Iteración sobre cada elemento en la lista\n",
    "    for item in string_list:\n",
    "        # Concatenación del elemento a la cadena resultante (convertido a cadena si no es una cadena)\n",
    "        concatenated_string += str(item)  \n",
    "    \n",
    "    # Devolución de la cadena resultante\n",
    "    return concatenated_string\n",
    "\n",
    "# Lista mixta de prueba que contiene cadenas, números, y booleanos\n",
    "mixed_list = [\"hello\", \"world\", 123, True, \"!\", 42.0]\n",
    "\n",
    "try:\n",
    "    # Intenta llamar a la función para concatenar las cadenas de la lista\n",
    "    result = concatenate_list_of_strings_2(mixed_list)\n",
    "    print(\"Concatenated Result:\", result)\n",
    "\n",
    "except TypeError as e:\n",
    "    # Maneja cualquier error de tipo (TypeError) y muestra el mensaje de error\n",
    "    print(\"TypeError:\", e)"
   ]
  },
  {
   "attachments": {},
   "cell_type": "markdown",
   "metadata": {},
   "source": [
    "Este script define una función llamada concatenate_list_of_strings_2 que intenta concatenar todos los elementos de una lista como cadenas de texto. Luego, prueba la función con una lista mixta que contiene cadenas, números y booleanos. Si se encuentra un elemento que no es una cadena, se captura un error de tipo (TypeError) y se imprime un mensaje de error."
   ]
  },
  {
   "attachments": {},
   "cell_type": "markdown",
   "metadata": {},
   "source": [
    "## Opción 3"
   ]
  },
  {
   "cell_type": "code",
   "execution_count": 9,
   "metadata": {},
   "outputs": [
    {
     "name": "stdout",
     "output_type": "stream",
     "text": [
      "Concatenated Result: helloworld!\n"
     ]
    }
   ],
   "source": [
    "# Definición de la función concatenate_list_of_strings_3 que intenta concatenar todos los elementos de una lista como cadenas\n",
    "def concatenate_list_of_strings_3(string_list):\n",
    "    # Esta función fallará si encuentra un no-string en la lista\n",
    "    concatenated_string = \"\"\n",
    "    \n",
    "    # Iteración sobre cada elemento en la lista\n",
    "    for item in string_list:\n",
    "        try:\n",
    "            # Intenta concatenar el elemento a la cadena resultante\n",
    "            concatenated_string += item  # Esto provocará TypeError si item no es un string\n",
    "        except:\n",
    "            # Si ocurre un error, simplemente continúa con el siguiente elemento\n",
    "            pass\n",
    "    \n",
    "    # Devolución de la cadena resultante\n",
    "    return concatenated_string\n",
    "\n",
    "# Lista de prueba con diferentes tipos de elementos\n",
    "mixed_list = [\"hello\", \"world\", 123, True, \"!\", 42.0]\n",
    "\n",
    "# Intento de concatenar la lista\n",
    "result = concatenate_list_of_strings_3(mixed_list)\n",
    "\n",
    "# Imprime el resultado de la concatenación (puede contener errores si hay elementos no cadenas en la lista)\n",
    "print(\"Concatenated Result:\", result)"
   ]
  },
  {
   "attachments": {},
   "cell_type": "markdown",
   "metadata": {},
   "source": [
    "Este script define una función llamada concatenate_list_of_strings_3 que intenta concatenar todos los elementos de una lista como cadenas de texto. Sin embargo, tiene un manejo de errores general (except:) que simplemente pasa al siguiente elemento si ocurre un error durante la concatenación."
   ]
  }
 ],
 "metadata": {
  "kernelspec": {
   "display_name": "progra_1",
   "language": "python",
   "name": "python3"
  },
  "language_info": {
   "codemirror_mode": {
    "name": "ipython",
    "version": 3
   },
   "file_extension": ".py",
   "mimetype": "text/x-python",
   "name": "python",
   "nbconvert_exporter": "python",
   "pygments_lexer": "ipython3",
   "version": "3.8.17"
  },
  "orig_nbformat": 4
 },
 "nbformat": 4,
 "nbformat_minor": 2
}
