{
 "cells": [
  {
   "attachments": {},
   "cell_type": "markdown",
   "metadata": {},
   "source": [
    "### Alumno: Fernando Ortega Camargo\n",
    "### No. estudiante 323018993\n",
    "### Correo: fernando.ortega1899@alumnos.udg.mx\n",
    "### Fecha: 31 / 08 / 2023"
   ]
  },
  {
   "attachments": {},
   "cell_type": "markdown",
   "metadata": {},
   "source": [
    "Mi primer script"
   ]
  },
  {
   "cell_type": "code",
   "execution_count": 1,
   "metadata": {},
   "outputs": [
    {
     "data": {
      "text/plain": [
       "5"
      ]
     },
     "execution_count": 1,
     "metadata": {},
     "output_type": "execute_result"
    }
   ],
   "source": [
    "2+3"
   ]
  },
  {
   "cell_type": "code",
   "execution_count": 2,
   "metadata": {},
   "outputs": [],
   "source": [
    "A = 3"
   ]
  },
  {
   "cell_type": "code",
   "execution_count": 34,
   "metadata": {},
   "outputs": [],
   "source": [
    "B = 6"
   ]
  },
  {
   "cell_type": "code",
   "execution_count": 35,
   "metadata": {},
   "outputs": [
    {
     "data": {
      "text/plain": [
       "9"
      ]
     },
     "execution_count": 35,
     "metadata": {},
     "output_type": "execute_result"
    }
   ],
   "source": [
    "C = A + B\n",
    "C"
   ]
  },
  {
   "cell_type": "code",
   "execution_count": 36,
   "metadata": {},
   "outputs": [
    {
     "data": {
      "text/plain": [
       "18"
      ]
     },
     "execution_count": 36,
     "metadata": {},
     "output_type": "execute_result"
    }
   ],
   "source": [
    "D = A * B\n",
    "D"
   ]
  },
  {
   "cell_type": "code",
   "execution_count": 3,
   "metadata": {},
   "outputs": [
    {
     "name": "stdout",
     "output_type": "stream",
     "text": [
      "Hello\n"
     ]
    }
   ],
   "source": [
    "print(\"Hello\")"
   ]
  },
  {
   "attachments": {},
   "cell_type": "markdown",
   "metadata": {},
   "source": [
    "Suma de dos variables"
   ]
  },
  {
   "cell_type": "code",
   "execution_count": 38,
   "metadata": {},
   "outputs": [
    {
     "name": "stdout",
     "output_type": "stream",
     "text": [
      "la suma es:  15\n"
     ]
    }
   ],
   "source": [
    "num1 = 5\n",
    "num2 = 10\n",
    "suma = num1 + num2\n",
    "print(\"la suma es: \", suma)"
   ]
  },
  {
   "attachments": {},
   "cell_type": "markdown",
   "metadata": {},
   "source": [
    "Resta de dos variables"
   ]
  },
  {
   "cell_type": "code",
   "execution_count": 39,
   "metadata": {},
   "outputs": [
    {
     "name": "stdout",
     "output_type": "stream",
     "text": [
      "la resta es:  5\n"
     ]
    }
   ],
   "source": [
    "num3 = 10\n",
    "num4 = 5\n",
    "resta = num3 - num4\n",
    "print(\"la resta es: \", resta)"
   ]
  },
  {
   "attachments": {},
   "cell_type": "markdown",
   "metadata": {},
   "source": [
    "Multiplicación de dos variables"
   ]
  },
  {
   "cell_type": "code",
   "execution_count": 42,
   "metadata": {},
   "outputs": [
    {
     "name": "stdout",
     "output_type": "stream",
     "text": [
      "la multi es:  50\n"
     ]
    }
   ],
   "source": [
    "num5 = 5\n",
    "num6 = 10\n",
    "multi = num5 * num6\n",
    "print(\"la multi es: \", multi)"
   ]
  },
  {
   "attachments": {},
   "cell_type": "markdown",
   "metadata": {},
   "source": [
    "Division de dos variables"
   ]
  },
  {
   "cell_type": "code",
   "execution_count": 43,
   "metadata": {},
   "outputs": [
    {
     "name": "stdout",
     "output_type": "stream",
     "text": [
      "la division es:  1.0\n"
     ]
    }
   ],
   "source": [
    "num7 = 10\n",
    "num8 = 10\n",
    "divi = num7 / num8\n",
    "print(\"la division es: \", divi)"
   ]
  },
  {
   "attachments": {},
   "cell_type": "markdown",
   "metadata": {},
   "source": [
    "Área de un rectángulo"
   ]
  },
  {
   "cell_type": "code",
   "execution_count": 45,
   "metadata": {},
   "outputs": [
    {
     "name": "stdout",
     "output_type": "stream",
     "text": [
      "El area del rectangulo es:  150\n"
     ]
    }
   ],
   "source": [
    "Lado1= 10\n",
    "Lado2= 15\n",
    "\n",
    "area_rect = Lado1*Lado2\n",
    "print(\"El area del rectangulo es: \", area_rect )"
   ]
  },
  {
   "attachments": {},
   "cell_type": "markdown",
   "metadata": {},
   "source": [
    "Área de un cuadrado"
   ]
  },
  {
   "cell_type": "code",
   "execution_count": 46,
   "metadata": {},
   "outputs": [
    {
     "name": "stdout",
     "output_type": "stream",
     "text": [
      "El area del cuadrado es  100\n"
     ]
    }
   ],
   "source": [
    "Lado3 = 10\n",
    "area_cuadro = Lado3**2\n",
    "print(\"El area del cuadrado es \",area_cuadro)"
   ]
  },
  {
   "attachments": {},
   "cell_type": "markdown",
   "metadata": {},
   "source": [
    "área de un triángulo"
   ]
  },
  {
   "cell_type": "code",
   "execution_count": 47,
   "metadata": {},
   "outputs": [
    {
     "name": "stdout",
     "output_type": "stream",
     "text": [
      "El area del triangulo es  100.0\n"
     ]
    }
   ],
   "source": [
    "base= 10\n",
    "altura = 20\n",
    "\n",
    "area_trian = (base*altura)/2 \n",
    "print(\"El area del triangulo es \",area_trian)"
   ]
  },
  {
   "attachments": {},
   "cell_type": "markdown",
   "metadata": {},
   "source": [
    "Area de un circulo"
   ]
  },
  {
   "cell_type": "code",
   "execution_count": 48,
   "metadata": {},
   "outputs": [
    {
     "name": "stdout",
     "output_type": "stream",
     "text": [
      "El area del circulo es  314.1592653589793\n"
     ]
    }
   ],
   "source": [
    "import math\n",
    "\n",
    "radio = 10\n",
    "area_circulo =  math.pi*(radio**2)\n",
    "print(\"El area del circulo es \", area_circulo)"
   ]
  },
  {
   "attachments": {},
   "cell_type": "markdown",
   "metadata": {},
   "source": [
    "## Opciones con input"
   ]
  },
  {
   "cell_type": "code",
   "execution_count": 49,
   "metadata": {},
   "outputs": [
    {
     "name": "stdout",
     "output_type": "stream",
     "text": [
      "la suma es:  2\n"
     ]
    }
   ],
   "source": [
    "n1 = int(input(\"introduce el primer valor\"))\n",
    "n2 = int(input(\"introduce el segundo valor\"))\n",
    "\n",
    "suma = n1 + n2\n",
    "\n",
    "\n",
    "print(\"la suma es: \", suma)"
   ]
  },
  {
   "attachments": {},
   "cell_type": "markdown",
   "metadata": {},
   "source": [
    "Área de un cuadrado con input"
   ]
  },
  {
   "cell_type": "code",
   "execution_count": 50,
   "metadata": {},
   "outputs": [
    {
     "name": "stdout",
     "output_type": "stream",
     "text": [
      "El area del cuadrado es  25\n"
     ]
    }
   ],
   "source": [
    "Lado3 = int(input(\"Dame el lado del cuadrado: \"))\n",
    "area_cuadro = Lado3**2\n",
    "print(\"El area del cuadrado es \",area_cuadro)"
   ]
  },
  {
   "attachments": {},
   "cell_type": "markdown",
   "metadata": {},
   "source": [
    "Área de un rectángulo con input"
   ]
  },
  {
   "cell_type": "code",
   "execution_count": 51,
   "metadata": {},
   "outputs": [
    {
     "name": "stdout",
     "output_type": "stream",
     "text": [
      "El area del rectangulo es:  20\n"
     ]
    }
   ],
   "source": [
    "Lado1= int(input(\"Dame el tamaño de la base: \"))\n",
    "Lado2= int(input(\"Dame el tamaño de la altura: \"))\n",
    "\n",
    "area_rect = Lado1*Lado2\n",
    "print(\"El area del rectangulo es: \", area_rect )"
   ]
  },
  {
   "attachments": {},
   "cell_type": "markdown",
   "metadata": {},
   "source": [
    "Área de un triángulo"
   ]
  },
  {
   "cell_type": "code",
   "execution_count": 52,
   "metadata": {},
   "outputs": [
    {
     "name": "stdout",
     "output_type": "stream",
     "text": [
      "El area del triangulo es  50.0\n"
     ]
    }
   ],
   "source": [
    "base = int(input(\"Dame el tamaño de la base: \"))\n",
    "altura = int(input(\"Dame el tamaño de la altura: \"))\n",
    "\n",
    "area_trian = (base*altura)/2 \n",
    "print(\"El area del triangulo es \",area_trian)"
   ]
  },
  {
   "attachments": {},
   "cell_type": "markdown",
   "metadata": {},
   "source": [
    "Área de un circulo"
   ]
  },
  {
   "cell_type": "code",
   "execution_count": 53,
   "metadata": {},
   "outputs": [
    {
     "name": "stdout",
     "output_type": "stream",
     "text": [
      "El area del circulo es  314.1592653589793\n"
     ]
    }
   ],
   "source": [
    "import math\n",
    "\n",
    "radio = int(input(\"Dame el tamaño del radio: \"))\n",
    "area_circulo =  math.pi*(radio**2)\n",
    "print(\"El area del circulo es \", area_circulo)"
   ]
  },
  {
   "attachments": {},
   "cell_type": "markdown",
   "metadata": {},
   "source": [
    "Convertir de grados Celsius a Fahrenheit"
   ]
  },
  {
   "cell_type": "code",
   "execution_count": 59,
   "metadata": {},
   "outputs": [
    {
     "name": "stdout",
     "output_type": "stream",
     "text": [
      "32  grados celsius equivalen a  89.6  grados fahrenheit\n"
     ]
    }
   ],
   "source": [
    "celsius = int(input(\"Dame los grados Celsius\"))\n",
    "\n",
    "fahrenheit = (celsius * (9/5))+32\n",
    "\n",
    "print(celsius,\" grados celsius equivalen a \",fahrenheit,\" grados fahrenheit\")"
   ]
  },
  {
   "attachments": {},
   "cell_type": "markdown",
   "metadata": {},
   "source": [
    "Convertir de grados Fahrenheit a Celsius"
   ]
  },
  {
   "cell_type": "code",
   "execution_count": 58,
   "metadata": {},
   "outputs": [
    {
     "name": "stdout",
     "output_type": "stream",
     "text": [
      "50  grados fahrenheit equivalen a  10.0  grados celsius\n"
     ]
    }
   ],
   "source": [
    "fahrenheit = int(input(\"Dame los grados fahrenheit\"))\n",
    "\n",
    "celsius = (fahrenheit -32) *(5/9)\n",
    "\n",
    "print(fahrenheit,\" grados fahrenheit equivalen a \",celsius,\" grados celsius\")"
   ]
  }
 ],
 "metadata": {
  "kernelspec": {
   "display_name": "progra_1",
   "language": "python",
   "name": "python3"
  },
  "language_info": {
   "codemirror_mode": {
    "name": "ipython",
    "version": 3
   },
   "file_extension": ".py",
   "mimetype": "text/x-python",
   "name": "python",
   "nbconvert_exporter": "python",
   "pygments_lexer": "ipython3",
   "version": "3.8.17"
  },
  "orig_nbformat": 4
 },
 "nbformat": 4,
 "nbformat_minor": 2
}
