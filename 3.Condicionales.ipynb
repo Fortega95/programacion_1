{
 "cells": [
  {
   "attachments": {},
   "cell_type": "markdown",
   "metadata": {},
   "source": [
    "### Alumno: Fernando Ortega Camargo\n",
    "### No. estudiante 323018993\n",
    "### Correo: fernando.ortega1899@alumnos.udg.mx\n",
    "### Fecha: 07 / 09 / 2023"
   ]
  },
  {
   "attachments": {},
   "cell_type": "markdown",
   "metadata": {},
   "source": [
    "# Condicionales\n",
    "\n",
    "Los condicionales en Python se utilizan para tomar decisiones basadas en condiciones específicas. Puedes usar las siguientes estructuras condicionales en Python:\n",
    "\n",
    "if: La declaración if se usa para ejecutar un bloque de código si una condición es verdadera.\n",
    "#if condicion:\n",
    "    # Código a ejecutar si la condición es verdadera"
   ]
  },
  {
   "attachments": {},
   "cell_type": "markdown",
   "metadata": {},
   "source": [
    "# Ejercicios Condicionales"
   ]
  },
  {
   "attachments": {},
   "cell_type": "markdown",
   "metadata": {},
   "source": [
    "## Ejercicio 1\n",
    "Escribir un programa que pregunte al usuario su edad y muestre por pantalla si es mayor de edad o no."
   ]
  },
  {
   "cell_type": "code",
   "execution_count": 1,
   "metadata": {},
   "outputs": [
    {
     "name": "stdout",
     "output_type": "stream",
     "text": [
      "eres mayor de edad\n"
     ]
    }
   ],
   "source": [
    "age= int(input(\"Cual es tu edad?\"))\n",
    "if age < 18:\n",
    "    print(\"Eres menor de edad\")\n",
    "else:\n",
    "    print(\"eres mayor de edad\")"
   ]
  },
  {
   "attachments": {},
   "cell_type": "markdown",
   "metadata": {},
   "source": [
    "## Ejercicio 2\n",
    "\n",
    "Escribir un programa que almacene la cadena de caracteres `contraseña` en una variable, pregunte al usuario por la contraseña e imprima por pantalla si la contraseña introducida por el usuario coincide con la guardada en la variable sin tener en cuenta mayúsculas y minúsculas."
   ]
  },
  {
   "cell_type": "code",
   "execution_count": 3,
   "metadata": {},
   "outputs": [
    {
     "name": "stdout",
     "output_type": "stream",
     "text": [
      "la contraseña coincide\n"
     ]
    }
   ],
   "source": [
    "key = \"pwd\"\n",
    "\n",
    "password = input(\"introduce contraseña\")\n",
    "\n",
    "if key.lower()== password.lower():\n",
    "    print(\"la contraseña coincide\")\n",
    "else:\n",
    "    print(\"La contraseña no coincide\")"
   ]
  },
  {
   "attachments": {},
   "cell_type": "markdown",
   "metadata": {},
   "source": [
    "## Ejercicio 3\n",
    "\n",
    "Escribir un programa que pida al usuario dos números y devuelva su división. Si el usuario no introduce números debe devolver un aviso de error y si el divisor es cero también."
   ]
  },
  {
   "cell_type": "code",
   "execution_count": 17,
   "metadata": {},
   "outputs": [
    {
     "name": "stdout",
     "output_type": "stream",
     "text": [
      "el divisor es cero, error\n"
     ]
    }
   ],
   "source": [
    "numero_1 = float(input(\"Dame el primer número\"))\n",
    "numero_2 = float(input(\"Dame el segundo número\"))\n",
    "\n",
    "\n",
    "\n",
    "if numero_2 == 0:\n",
    "    print(\"el divisor es cero, error\")\n",
    "else:\n",
    "    print( numero_1 / numero_2)\n"
   ]
  },
  {
   "attachments": {},
   "cell_type": "markdown",
   "metadata": {},
   "source": [
    "## Ejercicio 4\n",
    "\n",
    "Escribir un programa que pida al usuario un número entero y muestre por pantalla si es par o impar."
   ]
  },
  {
   "cell_type": "code",
   "execution_count": 18,
   "metadata": {},
   "outputs": [
    {
     "name": "stdout",
     "output_type": "stream",
     "text": [
      "el numero 5  es impar\n"
     ]
    }
   ],
   "source": [
    "numero_1 = int(input(\"Dame el primer número\"))\n",
    "\n",
    "if numero_1 % 2 == 0 :\n",
    "    print(f\"el numero {numero_1} es par\")\n",
    "else:\n",
    "    print(f\"el numero {numero_1} es impar\")"
   ]
  },
  {
   "attachments": {},
   "cell_type": "markdown",
   "metadata": {},
   "source": [
    "## Ejercicio 5\n",
    "\n",
    "Para tributar un determinado impuesto se debe ser mayor de 16 años y tener unos ingresos superiores a 1000 € mensuales.\n",
    "Escribir un programa que pregunte al usuario su edad y sus ingresos mensuales y muestre por pantalla si el usuario tiene que tributar o no."
   ]
  },
  {
   "cell_type": "code",
   "execution_count": 26,
   "metadata": {},
   "outputs": [
    {
     "name": "stdout",
     "output_type": "stream",
     "text": [
      "Tienes que pagar impuestos\n"
     ]
    }
   ],
   "source": [
    "age = int(input(\"Cual es tu edad?\"))\n",
    "\n",
    "income = float(input(\"Cual es tu ingreso?\"))\n",
    "\n",
    "if age >= 16 and income >=1000:\n",
    "    print(\"Tienes que pagar impuestos\")\n",
    "else:\n",
    "    print(\"No pagas impuestos\")\n",
    "\n"
   ]
  },
  {
   "attachments": {},
   "cell_type": "markdown",
   "metadata": {},
   "source": [
    "## Ejercicio 6\n",
    "\n",
    "Los alumnos de un curso se han dividido en dos grupos A y B de acuerdo al sexo y el nombre. El grupo A esta formado por las mujeres con un nombre anterior a la M y los hombres con un nombre posterior a la N y el grupo B por el resto.\n",
    "Escribir un programa que pregunte al usuario su nombre y sexo, y muestre por pantalla el grupo que le corresponde."
   ]
  },
  {
   "cell_type": "code",
   "execution_count": 35,
   "metadata": {},
   "outputs": [
    {
     "name": "stdout",
     "output_type": "stream",
     "text": [
      "Grupo A\n"
     ]
    }
   ],
   "source": [
    "nombre = input(\"Cual es tu Nombre?\")\n",
    "sexo = input(\"cual es tu sexo  M o F?\")\n",
    "\n",
    "if sexo==\"M\":\n",
    "    if nombre[0].lower() < \"n\":\n",
    "        print(\"Grupo A\")\n",
    "    else:\n",
    "        print(\"Grupo B\")\n",
    "else:\n",
    "    if nombre[0].lower() < \"m\":\n",
    "        print(\"Grupo A\")\n",
    "    else:\n",
    "        print(\"grupo B\")"
   ]
  },
  {
   "attachments": {},
   "cell_type": "markdown",
   "metadata": {},
   "source": [
    "## Ejercicio 7\n",
    "\n",
    "\n",
    "Los tramos impositivos para la declaración de la renta en un determinado país son los siguientes:\n",
    "\n",
    "|         Renta          | Tipo impositivo |\n",
    "| :--------------------: | :-------------: |\n",
    "|    Menos de 10000€     |       5%        |\n",
    "| Entre 10000€ y 20000€  |       15%       |\n",
    "| Entre 20000€ y 35000€  |       20%       |\n",
    "| Entre 35000€ y 60000€  |       30%       |\n",
    "|     Más de 60000€      |       45%       |\n",
    "\n",
    "Escribir un programa que pregunte al usuario su renta anual y muestre por pantalla lo que tiene que pagar."
   ]
  },
  {
   "cell_type": "code",
   "execution_count": 42,
   "metadata": {},
   "outputs": [
    {
     "name": "stdout",
     "output_type": "stream",
     "text": [
      "paga :  10500.0  $\n"
     ]
    }
   ],
   "source": [
    "renta = float(input(\"Cuanto pagas de renta anual?\"))\n",
    "\n",
    "if renta <10000:\n",
    "    print(\"paga : \",renta*.05,\" $\")\n",
    "elif renta <20000:\n",
    "    print(\"paga : \",renta*.15,\" $\")\n",
    "elif renta <35000:\n",
    "    print(\"paga : \",renta*.20,\" $\")\n",
    "elif renta <60000:\n",
    "    print(\"paga : \",renta*.30,\" $\")\n",
    "else:\n",
    "    print(\"paga : \",renta*.45,\" $\")"
   ]
  },
  {
   "attachments": {},
   "cell_type": "markdown",
   "metadata": {},
   "source": [
    "## Ejercicio 8\n",
    "\n",
    "En una determinada empresa, sus empleados son evaluados al final de cada año. Los puntos que pueden obtener en la evaluación comienzan en 0.0 y pueden ir aumentando, traduciéndose en mejores beneficios.\n",
    "Los puntos que pueden conseguir los empleados pueden ser 0.0, 0.4. o 0.6, pero no valores intermedios entre las cifras mencionadas.\n",
    "A continuación se muestra una tabla con los niveles correspondientes a cada puntuación.\n",
    "La cantidad de dinero conseguida en cada nivel es de 2.400€ multiplicada por la puntuación del nivel.\n",
    "\n",
    "|    Nivel    | Puntuación |\n",
    "| :---------: | :--------: |\n",
    "| Inaceptable |    0.0     |\n",
    "|  Aceptable  |    0.4     |\n",
    "|  Meritorio  |    0.6     |\n",
    "\n",
    "Escribir un programa que lea la puntuación del usuario e indique su nivel de rendimiento, así como la cantidad de dinero que "
   ]
  },
  {
   "cell_type": "code",
   "execution_count": 48,
   "metadata": {},
   "outputs": [
    {
     "name": "stdout",
     "output_type": "stream",
     "text": [
      "Tu nivel de rendimiento es Meritorio\n",
      "Te corresponde cobrar 1440.0 €\n"
     ]
    }
   ],
   "source": [
    "premio = 2400\n",
    "inaceptable = 0\n",
    "aceptable = 0.4\n",
    "meritorio = 0.6\n",
    "puntuacion = float(input(\"Introduce tu puntuación: \"))\n",
    "\n",
    "if puntuacion == inaceptable:\n",
    "    nivel = \"Inaceptable\"\n",
    "elif puntuacion == aceptable:\n",
    "    nivel = \"Aceptable\"\n",
    "elif puntuacion >= 0.6:\n",
    "    nivel = \"Meritorio\"\n",
    "else:\n",
    "    nivel = \"\"\n",
    "\n",
    "if nivel == \"\":\n",
    "    print(\"Esta puntuación no es válida\")\n",
    "else:\n",
    "    print(f\"Tu nivel de rendimiento es {nivel}\")\n",
    "    print(f\"Te corresponde cobrar { (puntuacion * premio)} €\" )"
   ]
  },
  {
   "attachments": {},
   "cell_type": "markdown",
   "metadata": {},
   "source": [
    "## Ejercicio 9\n",
    "\n",
    "Escribir un programa para una empresa que tiene salas de juegos para todas las edades y quiere calcular de forma automática el precio que debe cobrar a sus clientes por entrar.\n",
    "El programa debe preguntar al usuario la edad del cliente y mostrar el precio de la entrada.\n",
    "Si el cliente es menor de 4 años puede entrar gratis, si tiene entre 4 y 18 años debe pagar 5€ y si es mayor de 18 años, 10€.\n"
   ]
  },
  {
   "cell_type": "code",
   "execution_count": 51,
   "metadata": {},
   "outputs": [
    {
     "name": "stdout",
     "output_type": "stream",
     "text": [
      "Te va a costar entrar  4 €.\n"
     ]
    }
   ],
   "source": [
    "age = int(input(\"Introduce tu edad: \"))\n",
    "\n",
    "\n",
    "if age < 4:\n",
    "    precio = 0\n",
    "elif age <= 18:\n",
    "    precio = 4\n",
    "else:\n",
    "    precio = 10\n",
    "\n",
    "print(\"Te va a costar entrar \", precio, \"€.\")"
   ]
  },
  {
   "attachments": {},
   "cell_type": "markdown",
   "metadata": {},
   "source": [
    "## Ejercicio 10\n",
    "La pizzería Bella Napoli ofrece pizzas vegetarianas y no vegetarianas a sus clientes. Los ingredientes para cada tipo de pizza aparecen a continuación.\n",
    "\n",
    "Ingredientes vegetarianos: Pimiento y tofu.\n",
    "Ingredientes no vegetarianos: Peperoni, Jamón y Salmón.\n",
    "Escribir un programa que pregunte al usuario si quiere una pizza vegetariana o no, y en función de su respuesta le muestre un menú con los ingredientes disponibles para que elija. Solo se puede eligir un ingrediente además de la mozzarella y el tomate que están en todas la pizzas. Al final se debe mostrar por pantalla si la pizza elegida es vegetariana o no y todos los ingredientes que lleva."
   ]
  },
  {
   "cell_type": "code",
   "execution_count": 53,
   "metadata": {},
   "outputs": [
    {
     "name": "stdout",
     "output_type": "stream",
     "text": [
      "Pizza no vegetarina con mozarrella, tomate y salmon\n"
     ]
    }
   ],
   "source": [
    "tipo = input(\"Elige una opcion: .\\nTipos de pizza\\n\\t1- Vegetariana\\n\\t2- No vegetariana\\n\")\n",
    "\n",
    "if tipo == \"1\":\n",
    "    ingrediente = input(\"Elige los ingredientes de pizzas vegetarianas\\n\\t 1- Pimiento\\n\\t2- Tofu\\n\")\n",
    "    if ingrediente == \"1\":\n",
    "        print(\"Pizza vegetariana con mozzarella, tomate y pimiento\")\n",
    "    else: \n",
    "        print(\"Pizza vegetariana con mozzarella, tomate y tofu\")\n",
    "else:\n",
    "    ingrediente = input(\"Elige los ingredientes de pizzas no vegetarianas\\n\\t1- Peperoni\\n\\t2- Jamón\\n\\t3- Salmón\\n\")\n",
    "    if ingrediente == \"1\":\n",
    "        print(\"Pizza no vegetarina con mozarrella, tomate y peperoni\")\n",
    "    elif ingrediente == \"2\":\n",
    "        print(\"Pizza no vegetarina con mozarrella, tomate y jamón\")\n",
    "    else:\n",
    "        print(\"Pizza no vegetarina con mozarrella, tomate y salmon\")"
   ]
  }
 ],
 "metadata": {
  "kernelspec": {
   "display_name": "progra_1",
   "language": "python",
   "name": "python3"
  },
  "language_info": {
   "codemirror_mode": {
    "name": "ipython",
    "version": 3
   },
   "file_extension": ".py",
   "mimetype": "text/x-python",
   "name": "python",
   "nbconvert_exporter": "python",
   "pygments_lexer": "ipython3",
   "version": "3.8.17"
  },
  "orig_nbformat": 4
 },
 "nbformat": 4,
 "nbformat_minor": 2
}
