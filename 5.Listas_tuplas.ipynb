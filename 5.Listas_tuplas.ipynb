{
 "cells": [
  {
   "attachments": {},
   "cell_type": "markdown",
   "metadata": {},
   "source": [
    "### Alumno: Fernando Ortega Camargo\n",
    "### No. estudiante 323018993\n",
    "### Correo: fernando.ortega1899@alumnos.udg.mx\n",
    "### Fecha: 14 / 09 / 2023"
   ]
  },
  {
   "attachments": {},
   "cell_type": "markdown",
   "metadata": {},
   "source": [
    "## Listas o tuplas\n",
    "\n",
    "Las listas y las tuplas son dos tipos de estructuras de datos que se utilizan para almacenar colecciones de elementos. Sin embargo, tienen algunas diferencias clave:\n",
    "\n",
    "**Listas (Lists):**\n",
    "\n",
    "Las listas se definen utilizando corchetes [  ].\n",
    "Son mutables, lo que significa que se pueden modificar después de su creación. Puedes agregar, eliminar y cambiar elementos en una lista.\n",
    "Se pueden utilizar para almacenar una colección ordenada de elementos de diferentes tipos (números, cadenas, objetos, etc.).\n",
    "Ejemplo: **mi_lista = [1, 2, 3, 'cuatro']**\n",
    "\n",
    "**Tuplas (Tuples):**\n",
    "\n",
    "Las tuplas se definen utilizando paréntesis ().\n",
    "Son inmutables, lo que significa que no se pueden modificar una vez creadas. No puedes agregar, eliminar ni cambiar elementos en una tupla.\n",
    "Se utilizan para almacenar colecciones ordenadas de elementos, al igual que las listas, pero su inmutabilidad puede ser útil en ciertos contextos.\n",
    "Ejemplo: **mi_tupla = (1, 2, 3, 'cuatro')**"
   ]
  },
  {
   "attachments": {},
   "cell_type": "markdown",
   "metadata": {},
   "source": [
    "**Lista**\n",
    "\n",
    "<pre>\n",
    "   <code>\n",
    "      mi_lista = [1, 2, 3] \n",
    "      mi_lista.append(4)                 # Agrega un elemento al final\n",
    "      mi_lista[1] = 5                    # Cambia el segundo elemento\n",
    "      del mi_lista[0]                    # Elimina el primer elemento\n",
    "   </code>\n",
    "</pre>\n",
    "\n",
    "**Tupla**\n",
    "\n",
    "<pre>\n",
    "   <code>\n",
    "      mi_tupla = (1, 2, 3)\n",
    "   </code>\n",
    "</pre>\n",
    "\n",
    "\n",
    "No se pueden hacer modificaciones en una tupla, por lo que no hay métodos como append, remove o pop para ellas"
   ]
  },
  {
   "attachments": {},
   "cell_type": "markdown",
   "metadata": {},
   "source": [
    "**Ejercicio 1**\n",
    "\n",
    "Escribir un programa que almacene las asignaturas de un curso (por ejemplo Matemáticas, Física, Química, Historia y Lengua) en una lista y la muestre por pantalla."
   ]
  },
  {
   "cell_type": "code",
   "execution_count": 1,
   "metadata": {},
   "outputs": [
    {
     "name": "stdout",
     "output_type": "stream",
     "text": [
      "['Algebra', 'computación', 'estadística', 'Probabilidad', 'cálculo']\n"
     ]
    }
   ],
   "source": [
    "materias  = [\"Algebra\", \"computación\", \"estadística\", \"Probabilidad\", \"cálculo\"]\n",
    "print(materias)"
   ]
  },
  {
   "attachments": {},
   "cell_type": "markdown",
   "metadata": {},
   "source": [
    "**Ejercicio 2**\n",
    "\n",
    "Escribir un programa que almacene las asignaturas de un curso (por ejemplo Matemáticas, Física, Química, Historia y Lengua) en una lista y la muestre por pantalla."
   ]
  },
  {
   "cell_type": "code",
   "execution_count": 2,
   "metadata": {},
   "outputs": [
    {
     "name": "stdout",
     "output_type": "stream",
     "text": [
      "este semestre tengo Algebra como materia \n",
      "este semestre tengo computación como materia \n",
      "este semestre tengo estadística como materia \n",
      "este semestre tengo Probabilidad como materia \n",
      "este semestre tengo cálculo como materia \n"
     ]
    }
   ],
   "source": [
    "materias = [\"Algebra\", \"computación\", \"estadística\", \"Probabilidad\", \"cálculo\"]\n",
    "for i in materias:\n",
    "    print(f\"este semestre tengo {i} como materia \")"
   ]
  },
  {
   "attachments": {},
   "cell_type": "markdown",
   "metadata": {},
   "source": [
    "**Ejercicio 3**\n",
    "\n",
    "Escribir un programa que almacene las asignaturas de un curso (por ejemplo Matemáticas, Física, Química, Historia y Lengua) en una lista , que pregunte la calificación y la muestre por pantalla."
   ]
  },
  {
   "cell_type": "code",
   "execution_count": 4,
   "metadata": {},
   "outputs": [
    {
     "name": "stdout",
     "output_type": "stream",
     "text": [
      "En Algebra has sacado 10\n",
      "En computación has sacado 5\n",
      "En estadística has sacado 10\n",
      "En Probabilidad has sacado 8\n",
      "En cálculo has sacado 10\n"
     ]
    }
   ],
   "source": [
    "materias = [\"Algebra\", \"computación\", \"estadística\", \"Probabilidad\", \"cálculo\"]\n",
    "calificacion = []\n",
    "for i in materias:\n",
    "    score = input(\"¿Qué nota has sacado en \" + i + \"?\")\n",
    "    calificacion.append(score)\n",
    "for i in range(len(materias)):\n",
    "    print(\"En \" + materias[i] + \" has sacado \" + calificacion[i])"
   ]
  },
  {
   "attachments": {},
   "cell_type": "markdown",
   "metadata": {},
   "source": [
    "**Ejercicio 4**\n",
    "\n",
    "Escribir un programa que pregunte al usuario los números ganadores de la lotería primitiva, los almacene en una lista y los muestre por pantalla ordenados de menor a mayor."
   ]
  },
  {
   "cell_type": "code",
   "execution_count": 6,
   "metadata": {},
   "outputs": [
    {
     "name": "stdout",
     "output_type": "stream",
     "text": [
      "Los números ganadores son [1, 1, 1, 1, 1, 1] \n"
     ]
    }
   ],
   "source": [
    "bolas = []\n",
    "for i in range(6):\n",
    "    bolas.append(int(input(\"Introduce un número ganador: \")))\n",
    "bolas.sort()\n",
    "print(f\"Los números ganadores son {bolas} \" )"
   ]
  },
  {
   "attachments": {},
   "cell_type": "markdown",
   "metadata": {},
   "source": [
    "**Ejercicio 5**\n",
    "\n",
    "Escribir un programa que almacene en una lista los números del 1 al 10 y los muestre por pantalla en orden inverso separados por comas."
   ]
  },
  {
   "cell_type": "code",
   "execution_count": 7,
   "metadata": {},
   "outputs": [
    {
     "name": "stdout",
     "output_type": "stream",
     "text": [
      "10, 9, 8, 7, 6, 5, 4, 3, 2, 1, "
     ]
    }
   ],
   "source": [
    "numeros = [1, 2, 3, 4, 5, 6, 7, 8, 9, 10]\n",
    "for i in range(1, 11):\n",
    "    print(numeros[-i], end=\", \")"
   ]
  },
  {
   "attachments": {},
   "cell_type": "markdown",
   "metadata": {},
   "source": [
    "**Ejercicio 6**\n",
    "\n",
    "Escribir un programa que almacene las asignaturas de un curso (por ejemplo Matemáticas, Física, Química, Historia y Lengua) en una lista, pregunte al usuario la nota que ha sacado en cada asignatura y elimine de la lista las asignaturas aprobadas. Al final el programa debe mostrar por pantalla las asignaturas que el usuario tiene que repetir."
   ]
  },
  {
   "cell_type": "code",
   "execution_count": 10,
   "metadata": {},
   "outputs": [
    {
     "name": "stdout",
     "output_type": "stream",
     "text": [
      "Tienes que repetir ['estadística', 'Probabilidad', 'cálculo']\n"
     ]
    }
   ],
   "source": [
    "materias = [\"Algebra\", \"computación\", \"estadística\", \"Probabilidad\", \"cálculo\"]\n",
    "aprobo = []\n",
    "for i in materias:\n",
    "    score = float(input(\"¿Qué nota has sacado en \" + i + \"?\"))\n",
    "    if score > 5:\n",
    "        aprobo.append(i)\n",
    "for subject in aprobo:\n",
    "    materias.remove(subject)\n",
    "print(f\"Tienes que repetir {materias}\" )"
   ]
  },
  {
   "attachments": {},
   "cell_type": "markdown",
   "metadata": {},
   "source": [
    "**Ejercicio  7**\n",
    "\n",
    "Escribir un programa que almacene el abecedario en una lista, elimine de la lista las letras que ocupen posiciones múltiplos de 3, y muestre por pantalla la lista resultante."
   ]
  },
  {
   "cell_type": "code",
   "execution_count": 23,
   "metadata": {},
   "outputs": [
    {
     "name": "stdout",
     "output_type": "stream",
     "text": [
      "['a', 'b', 'd', 'e', 'g', 'h', 'j', 'k', 'm', 'n', 'o', 'p', 'r', 's', 'u', 'v', 'x', 'y']\n"
     ]
    }
   ],
   "source": [
    "letras = ['a', 'b', 'c', 'd', 'e', 'f', 'g', 'h', 'i', 'j', 'k', 'l', 'm', 'n', 'ñ', 'o', 'p', 'q', 'r', 's', 't', 'u', 'v', 'w', 'x', 'y', 'z']\n",
    "for i in range(len(letras), 1, -1):\n",
    "    if i % 3 == 0:\n",
    "        letras.pop(i-1)\n",
    "print(letras)"
   ]
  },
  {
   "cell_type": "code",
   "execution_count": 18,
   "metadata": {},
   "outputs": [],
   "source": [
    "for i in letras:\n",
    "    letras.index(\"a\") % 3 == 0"
   ]
  },
  {
   "attachments": {},
   "cell_type": "markdown",
   "metadata": {},
   "source": [
    "**Ejercicio 8**\n",
    "\n",
    "Escribir un programa que pida al usuario una palabra y muestre por pantalla si es un palíndromo."
   ]
  },
  {
   "cell_type": "code",
   "execution_count": 27,
   "metadata": {},
   "outputs": [
    {
     "name": "stdout",
     "output_type": "stream",
     "text": [
      "ojo Es un palíndromo\n"
     ]
    }
   ],
   "source": [
    "palabra = input(\"Introduce una palabra: \")\n",
    "alreves = palabra\n",
    "word = list(palabra)\n",
    "alreves = list(alreves)\n",
    "alreves.reverse()\n",
    "if word == alreves:\n",
    "    print(f\"{palabra} Es un palíndromo\")\n",
    "else:\n",
    "    print(f\"{palabra} No es un palíndromo\")"
   ]
  },
  {
   "attachments": {},
   "cell_type": "markdown",
   "metadata": {},
   "source": [
    "**Ejercicio 9**\n",
    "\n",
    "Escribir un programa que pida al usuario una palabra y muestre por pantalla el número de veces que contiene cada vocal."
   ]
  },
  {
   "cell_type": "code",
   "execution_count": 30,
   "metadata": {},
   "outputs": [
    {
     "name": "stdout",
     "output_type": "stream",
     "text": [
      "Palabra: espejo\n",
      "La vocal a aparece 0 veces\n",
      "La vocal e aparece 2 veces\n",
      "La vocal i aparece 0 veces\n",
      "La vocal o aparece 1 veces\n",
      "La vocal u aparece 0 veces\n"
     ]
    }
   ],
   "source": [
    "palabra = input(\"Introduce una palabra: \")\n",
    "print(f\"Palabra: {palabra}\")\n",
    "vocals = ['a', 'e', 'i', 'o', 'u']\n",
    "for i in vocals: \n",
    "    contador = 0\n",
    "    for j in palabra: \n",
    "        if j == i:\n",
    "            contador += 1\n",
    "    print(f\"La vocal {i} aparece {contador} veces\" )"
   ]
  },
  {
   "attachments": {},
   "cell_type": "markdown",
   "metadata": {},
   "source": [
    "**Ejercicio 10**\n",
    "\n",
    "Escribir un programa que almacene en una lista los siguientes precios, 50, 75, 46, 22, 80, 65, 8, y muestre por pantalla el menor y el mayor de los precios."
   ]
  },
  {
   "cell_type": "code",
   "execution_count": 32,
   "metadata": {},
   "outputs": [
    {
     "name": "stdout",
     "output_type": "stream",
     "text": [
      "El mínimo es 8\n",
      "El máximo es 80\n"
     ]
    }
   ],
   "source": [
    "precios = [50, 75, 46, 22, 80, 65, 8]\n",
    "min = max = precios[0]\n",
    "for j in precios:\n",
    "    if j < min:\n",
    "        min = j\n",
    "    elif j > max:\n",
    "        max = j \n",
    "print(\"El mínimo es \" + str(min)) \n",
    "print(\"El máximo es \" + str(max))"
   ]
  }
 ],
 "metadata": {
  "kernelspec": {
   "display_name": "progra_1",
   "language": "python",
   "name": "python3"
  },
  "language_info": {
   "codemirror_mode": {
    "name": "ipython",
    "version": 3
   },
   "file_extension": ".py",
   "mimetype": "text/x-python",
   "name": "python",
   "nbconvert_exporter": "python",
   "pygments_lexer": "ipython3",
   "version": "3.8.17"
  },
  "orig_nbformat": 4
 },
 "nbformat": 4,
 "nbformat_minor": 2
}
